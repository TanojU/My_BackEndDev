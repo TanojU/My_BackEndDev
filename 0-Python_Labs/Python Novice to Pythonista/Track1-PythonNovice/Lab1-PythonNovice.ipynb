{
 "cells": [
  {
   "cell_type": "markdown",
   "metadata": {},
   "source": [
    "## Formatting Simple Data Types"
   ]
  },
  {
   "cell_type": "code",
   "execution_count": 1,
   "metadata": {},
   "outputs": [],
   "source": [
    "# Task 1\n",
    "# Create variables for an integer, a floating point number, \n",
    "# a character string and a boolean value\n",
    "\n",
    "a = 500\n",
    "b = 100240.59595\n",
    "c = 'Hello, World!'\n",
    "d = False"
   ]
  },
  {
   "cell_type": "code",
   "execution_count": 2,
   "metadata": {},
   "outputs": [
    {
     "name": "stdout",
     "output_type": "stream",
     "text": [
      "<class 'int'>\n",
      "<class 'float'>\n",
      "<class 'str'>\n",
      "<class 'bool'>\n"
     ]
    }
   ],
   "source": [
    "# varify variable types\n",
    "\n",
    "print(type(a))\n",
    "print(type(b))\n",
    "print(type(c))\n",
    "print(type(d))"
   ]
  },
  {
   "cell_type": "code",
   "execution_count": 4,
   "metadata": {},
   "outputs": [
    {
     "name": "stdout",
     "output_type": "stream",
     "text": [
      "500, 100240.60, Hello, World!, False\n"
     ]
    }
   ],
   "source": [
    "# Task 2\n",
    "# Use C-style printf formatting to construct a string with your \n",
    "# variables; limit the floating point to 2 decimal points\n",
    "print('%i, %.2f, %s, %s' %(a,b,c,d))\n"
   ]
  },
  {
   "cell_type": "code",
   "execution_count": 5,
   "metadata": {},
   "outputs": [
    {
     "name": "stdout",
     "output_type": "stream",
     "text": [
      "False: 0\t500\t100240.59595\tHello, World!\n"
     ]
    }
   ],
   "source": [
    "# Task 3\n",
    "# Construct a string with your variables using the string format method;\n",
    "# represent the boolean variable value as 0 for False and 1 for True\n",
    "s = '{0}: {1:d}\\t{2}\\t{3}\\t{4}'.format(d,d,a,b,c)\n",
    "print(s)"
   ]
  },
  {
   "cell_type": "code",
   "execution_count": 6,
   "metadata": {},
   "outputs": [
    {
     "name": "stdout",
     "output_type": "stream",
     "text": [
      "True False\n",
      "1 0\n",
      "\n"
     ]
    }
   ],
   "source": [
    "# C-style booleans\n",
    "print('%s %s' % (True, False))\n",
    "print('%i %i' % (True, False))\n",
    "print()"
   ]
  },
  {
   "cell_type": "code",
   "execution_count": 9,
   "metadata": {},
   "outputs": [
    {
     "name": "stdout",
     "output_type": "stream",
     "text": [
      "500 100,240.60\n",
      "Hello\n",
      "False\n"
     ]
    }
   ],
   "source": [
    "# Task 4\n",
    "# Construct a string using formatted string\n",
    "t = f'{a} {b:,.2f}\\n{c[:5]}\\n{d}'\n",
    "print(t)"
   ]
  },
  {
   "cell_type": "markdown",
   "metadata": {},
   "source": [
    "## Flow Controls and Conditionals"
   ]
  },
  {
   "cell_type": "code",
   "execution_count": 3,
   "metadata": {},
   "outputs": [
    {
     "name": "stdout",
     "output_type": "stream",
     "text": [
      "2\n",
      "53\n",
      "19\n",
      "-5\n",
      "60\n",
      "41\n",
      "5\n",
      "22\n"
     ]
    }
   ],
   "source": [
    "#Task 1: for loop\n",
    "# declare a list of vaulues\n",
    "values = [2, 53, 19, -5, 60, 41, \"test\", 5, 22, 9, 22]\n",
    "\n",
    "# create a loop using a for loop\n",
    "for i in values:\n",
    "    # break statement\n",
    "    if i == 9:\n",
    "        break\n",
    "    elif isinstance(i, str): # if i is a string, continue\n",
    "        continue\n",
    "    else:\n",
    "        print(i)"
   ]
  },
  {
   "cell_type": "code",
   "execution_count": 7,
   "metadata": {},
   "outputs": [
    {
     "name": "stdout",
     "output_type": "stream",
     "text": [
      "skipping-5\n",
      "sum: 202, loop: 9\n"
     ]
    }
   ],
   "source": [
    "#Task 2: while loop\n",
    "# create a loop using a while loop\n",
    "total = 0\n",
    "loop = 0\n",
    "while total < 200:\n",
    "    # break statement\n",
    "    if isinstance(values[loop], str): \n",
    "        loop += 1\n",
    "        continue\n",
    "    elif values[loop] > 0:\n",
    "        total += values[loop]\n",
    "    else:\n",
    "        print(f'skipping{values[loop]}')\n",
    "    \n",
    "    if loop == len(values)-1: # break at the end of the line\n",
    "        break\n",
    "    loop += 1\n",
    "    \n",
    "print(f'sum: {total}, loop: {loop}')"
   ]
  },
  {
   "cell_type": "markdown",
   "metadata": {},
   "source": [
    "## Copy Containers"
   ]
  },
  {
   "cell_type": "markdown",
   "metadata": {},
   "source": [
    "Complete the tasks in sequence\n",
    "\n",
    "Create a list of lists <br>\n",
    "Create a shallow copy of the list <br>\n",
    "Create a deep copy of the list <br>\n",
    "Modify an element of the shallow copy <br>\n",
    "Modify an element of the deep copy <br>\n",
    "Print the contents of the resulting lists <br>"
   ]
  },
  {
   "cell_type": "code",
   "execution_count": 8,
   "metadata": {},
   "outputs": [],
   "source": [
    "# Task 1\n",
    "import copy\n",
    "\n",
    "# create a list of lists\n",
    "a = [[1,1,1,1], [2,2,2,2], [3,3,3,3]]"
   ]
  },
  {
   "cell_type": "code",
   "execution_count": 9,
   "metadata": {},
   "outputs": [],
   "source": [
    "# Task 2\n",
    "# create a shallow copy of the list\n",
    "shallow_a = copy.copy(a)"
   ]
  },
  {
   "cell_type": "code",
   "execution_count": 10,
   "metadata": {},
   "outputs": [],
   "source": [
    "# Task 3\n",
    "# create a deep copy of the list\n",
    "deep_a = copy.deepcopy(a)"
   ]
  },
  {
   "cell_type": "code",
   "execution_count": 18,
   "metadata": {},
   "outputs": [
    {
     "name": "stdout",
     "output_type": "stream",
     "text": [
      "vauese in a:        [[1, 1, 1, 1], [0, 2, 2, 2], [3, 3, 3, 3]]\n",
      "value in shallow_a: [[1, 1, 1, 1], [0, 2, 2, 2], [3, 3, 3, 3]]\n",
      "value in deep_a:    [[1, 1, 1, 1], [2, 2, 2, 2], [3, 3, 3, 3]]\n"
     ]
    }
   ],
   "source": [
    "# Task 4\n",
    "# modify an element of the shallow copy\n",
    "# should modify both shallow_a and a\n",
    "shallow_a[1][0] = 0\n",
    "print(f'vauese in a:        {a}')\n",
    "print(f'value in shallow_a: {shallow_a}')\n",
    "print(f'value in deep_a:    {deep_a}')"
   ]
  },
  {
   "cell_type": "code",
   "execution_count": 19,
   "metadata": {},
   "outputs": [
    {
     "name": "stdout",
     "output_type": "stream",
     "text": [
      "vauese in a:        [[1, 1, 1, 1], [0, 2, 2, 2], [3, 3, 3, 3]]\n",
      "value in shallow_a: [[1, 1, 1, 1], [0, 2, 2, 2], [3, 3, 3, 3]]\n",
      "value in deep_a:    [[1, 1, 1, 1], [99, 2, 2, 2], [3, 3, 3, 3]]\n"
     ]
    }
   ],
   "source": [
    "# Task 5\n",
    "# modify an element of the deep copy\n",
    "deep_a[1][0] = 99\n",
    "\n",
    "print(f'vauese in a:        {a}')\n",
    "print(f'value in shallow_a: {shallow_a}')\n",
    "print(f'value in deep_a:    {deep_a}')"
   ]
  },
  {
   "cell_type": "code",
   "execution_count": 20,
   "metadata": {},
   "outputs": [
    {
     "name": "stdout",
     "output_type": "stream",
     "text": [
      "140218933833800\n",
      "140218933833800\n",
      "140218935797704\n"
     ]
    }
   ],
   "source": [
    "print(id(a[1]))\n",
    "print(id(shallow_a[1]))\n",
    "print(id(deep_a[1]))"
   ]
  },
  {
   "cell_type": "markdown",
   "metadata": {},
   "source": [
    "## List Comprehension"
   ]
  },
  {
   "cell_type": "markdown",
   "metadata": {},
   "source": [
    "Complete the tasks in sequence\n",
    "\n",
    "Create a list using list comprehension <br>\n",
    "Modify the contents of the list using list comprehension <br>\n",
    "Call a function on the list elements using list comprehension <br>\n",
    "Output the contents of the list using list comprehension <br>"
   ]
  },
  {
   "cell_type": "code",
   "execution_count": 21,
   "metadata": {},
   "outputs": [],
   "source": [
    "# Task 1\n",
    "# if number is less than 8 characters, ad zeors to the left\n",
    "def to_str_fill(i):\n",
    "    t = str(i).zfill(8)\n",
    "    return t"
   ]
  },
  {
   "cell_type": "code",
   "execution_count": 23,
   "metadata": {},
   "outputs": [
    {
     "data": {
      "text/plain": [
       "[0, 1, 4, 9, 16, 25, 36, 49, 64, 81]"
      ]
     },
     "execution_count": 23,
     "metadata": {},
     "output_type": "execute_result"
    }
   ],
   "source": [
    "# create a list using list comprehension\n",
    "# creates a list of squeares from 0 to 9\n",
    "s = [x**2 for x in range(10)]\n",
    "s"
   ]
  },
  {
   "cell_type": "code",
   "execution_count": 24,
   "metadata": {},
   "outputs": [
    {
     "data": {
      "text/plain": [
       "[0, 9, 36, 81]"
      ]
     },
     "execution_count": 24,
     "metadata": {},
     "output_type": "execute_result"
    }
   ],
   "source": [
    "# Task 2\n",
    "# modify the contents of the list using list comprehension\n",
    "# for each item in s, if x % 3 == 0, assing value to s\n",
    "s = [x for x in s if x % 3 == 0]\n",
    "s"
   ]
  },
  {
   "cell_type": "code",
   "execution_count": 25,
   "metadata": {},
   "outputs": [],
   "source": [
    "# Task 3\n",
    "# call a function on the list elements using list comprehension\n",
    "s2 = [to_str_fill(x) for x in s] # feed elements in s into a function\n"
   ]
  },
  {
   "cell_type": "code",
   "execution_count": 26,
   "metadata": {},
   "outputs": [
    {
     "name": "stdout",
     "output_type": "stream",
     "text": [
      "00000000\n",
      "00000009\n",
      "00000036\n",
      "00000081\n"
     ]
    },
    {
     "data": {
      "text/plain": [
       "[None, None, None, None]"
      ]
     },
     "execution_count": 26,
     "metadata": {},
     "output_type": "execute_result"
    }
   ],
   "source": [
    "# Task 4\n",
    "# Output the contents of the list using list comprehension\n",
    "[print(x) for x in s2]"
   ]
  },
  {
   "cell_type": "markdown",
   "metadata": {},
   "source": [
    "## Type Conversion"
   ]
  },
  {
   "cell_type": "markdown",
   "metadata": {},
   "source": [
    "\n",
    "Complete the tasks in sequence\n",
    "\n",
    "Create a variable to hold a64-bit integer <br>\n",
    "Create a variable to hold a double floating point number <br>\n",
    "Convert the64-bit integer to a 32-bit integer <br>\n",
    "Convert the double floating point number to a single floating point number <br>\n",
    "Compare the results and output the values"
   ]
  },
  {
   "cell_type": "code",
   "execution_count": 27,
   "metadata": {},
   "outputs": [
    {
     "name": "stdout",
     "output_type": "stream",
     "text": [
      "x: 633825300114114700748351602688 <class 'int'>\n"
     ]
    }
   ],
   "source": [
    "# Task 1\n",
    "import numpy as np\n",
    "\n",
    "def print_var(n, x):\n",
    "    print(f'{n}: {x} {type(x)}') # n is the variable. x is the type of x\n",
    "    # n is the name of the variable and x is the value\n",
    "    \n",
    "x = 2**99 # evaluate 2 to the 99th power\n",
    "print_var('x', x) # n takes the value of string 'x'"
   ]
  },
  {
   "cell_type": "code",
   "execution_count": 28,
   "metadata": {},
   "outputs": [
    {
     "name": "stdout",
     "output_type": "stream",
     "text": [
      "y: 8589934592 <class 'numpy.int64'>\n"
     ]
    }
   ],
   "source": [
    "# create a variable to hold a 64-bit integer\n",
    "y = np.int64(2**33)\n",
    "print_var('y', y)"
   ]
  },
  {
   "cell_type": "code",
   "execution_count": 29,
   "metadata": {},
   "outputs": [
    {
     "name": "stdout",
     "output_type": "stream",
     "text": [
      "z: 387438.23843984393 <class 'numpy.float64'>\n"
     ]
    }
   ],
   "source": [
    "# Task 2\n",
    "# create a variable to hold a double floating point number\n",
    "# Double precision may be chosen when the range or \n",
    "## precision of single precision would be insufficient.\n",
    "z = np.float64(387438.238439843934329)\n",
    "print_var('z', z)"
   ]
  },
  {
   "cell_type": "code",
   "execution_count": 30,
   "metadata": {},
   "outputs": [
    {
     "name": "stdout",
     "output_type": "stream",
     "text": [
      "y2: 0 <class 'numpy.int32'>\n",
      "y3: -2147483648 <class 'numpy.int32'>\n"
     ]
    }
   ],
   "source": [
    "# Task 3\n",
    "# Convert the 64-bit integer to a 32-bit integer\n",
    "y2 = y.astype(np.int32)\n",
    "print_var('y2', y2)\n",
    "\n",
    "y3 = np.int32(np.int64(2**31))\n",
    "print_var('y3', y3)"
   ]
  },
  {
   "cell_type": "code",
   "execution_count": 31,
   "metadata": {},
   "outputs": [
    {
     "name": "stdout",
     "output_type": "stream",
     "text": [
      "z2: 387438.25 <class 'numpy.float32'>\n"
     ]
    }
   ],
   "source": [
    "# Task 4\n",
    "# Convert the double floating point number to a single precision floating\n",
    "## point number\n",
    "z2 = np.float32(z)\n",
    "print_var('z2', z2)"
   ]
  },
  {
   "cell_type": "markdown",
   "metadata": {},
   "source": [
    "## Functions and Variable Scope"
   ]
  },
  {
   "cell_type": "markdown",
   "metadata": {},
   "source": [
    "Complete the tasks in sequence\n",
    "\n",
    "Create a global variable <br>\n",
    "Create a function that uses the global variable and a local one <br>\n",
    "Attempt to reference a function's local variable outside of the function <br>\n",
    "Print the function's return value <br>"
   ]
  },
  {
   "cell_type": "code",
   "execution_count": 1,
   "metadata": {},
   "outputs": [],
   "source": [
    "# Task 1\n",
    "# Create a global variable\n",
    "g_x = 2.5"
   ]
  },
  {
   "cell_type": "code",
   "execution_count": 2,
   "metadata": {},
   "outputs": [],
   "source": [
    "# Task 2\n",
    "# Create a function that uses the global variable and a local one\n",
    "def f1(x):\n",
    "    global g_x\n",
    "    y = 6\n",
    "    g_x = x * y\n",
    "    return g_x # function returns value of input times 6"
   ]
  },
  {
   "cell_type": "code",
   "execution_count": 3,
   "metadata": {},
   "outputs": [
    {
     "ename": "NameError",
     "evalue": "name 'y' is not defined",
     "output_type": "error",
     "traceback": [
      "\u001b[0;31m---------------------------------------------------------------------------\u001b[0m",
      "\u001b[0;31mNameError\u001b[0m                                 Traceback (most recent call last)",
      "\u001b[0;32m<ipython-input-3-d60d91bdce32>\u001b[0m in \u001b[0;36m<module>\u001b[0;34m\u001b[0m\n\u001b[1;32m      2\u001b[0m \u001b[0;31m# Attempt to reference a function's local variable outside\u001b[0m\u001b[0;34m\u001b[0m\u001b[0;34m\u001b[0m\u001b[0;34m\u001b[0m\u001b[0m\n\u001b[1;32m      3\u001b[0m \u001b[0;31m## of the function\u001b[0m\u001b[0;34m\u001b[0m\u001b[0;34m\u001b[0m\u001b[0;34m\u001b[0m\u001b[0m\n\u001b[0;32m----> 4\u001b[0;31m \u001b[0mprint\u001b[0m\u001b[0;34m(\u001b[0m\u001b[0my\u001b[0m\u001b[0;34m)\u001b[0m\u001b[0;34m\u001b[0m\u001b[0;34m\u001b[0m\u001b[0m\n\u001b[0m",
      "\u001b[0;31mNameError\u001b[0m: name 'y' is not defined"
     ]
    }
   ],
   "source": [
    "# Task 3\n",
    "# Attempt to reference a function's local variable outside\n",
    "## of the function\n",
    "print(y)"
   ]
  },
  {
   "cell_type": "code",
   "execution_count": 4,
   "metadata": {},
   "outputs": [
    {
     "name": "stdout",
     "output_type": "stream",
     "text": [
      "f1(5): 30\n",
      "g_x: 30\n",
      "f1(g_x): 180\n",
      "g_x): 180\n"
     ]
    }
   ],
   "source": [
    "# Task 4\n",
    "# Print the function's return value\n",
    "print(f'f1(5): {f1(5)}')\n",
    "print(f'g_x: {g_x}')\n",
    "\n",
    "print(f'f1(g_x): {f1(g_x)}') # now 30 gets passed into the function\n",
    "print(f'g_x): {g_x}')"
   ]
  },
  {
   "cell_type": "markdown",
   "metadata": {},
   "source": [
    "## Function Arguments and Return Values"
   ]
  },
  {
   "cell_type": "markdown",
   "metadata": {},
   "source": [
    "Complete the tasks in sequence\n",
    "\n",
    "Create a function that accepts variable arguments as lists and named arguments <br>\n",
    "Perform an operation on the list of arguments <br>\n",
    "Perform an operation on the named arguments <br>\n",
    "Return different return values based on the arguments <br>\n"
   ]
  },
  {
   "cell_type": "code",
   "execution_count": 9,
   "metadata": {},
   "outputs": [],
   "source": [
    "# Task 1 - Create a function that accepts variable arguments as lists and \n",
    "## named arguments\n",
    "def fn(*args, **kwargs):\n",
    "# Task 2 - Perform an opetation on th elist of arguments\n",
    "    total = sum(args)\n",
    "    retval = f'sum of args: {total}\\n'\n",
    "    \n",
    "# Task 3 - Perfom an operation on the named arguments\n",
    "    for k, v in kwargs.items():\n",
    "        retval += f'{k}={v}\\n'\n",
    "    return retval\n",
    "    "
   ]
  },
  {
   "cell_type": "code",
   "execution_count": 11,
   "metadata": {},
   "outputs": [],
   "source": [
    "s = fn(1,2,3,test=5, p='Hello, World')"
   ]
  },
  {
   "cell_type": "code",
   "execution_count": 12,
   "metadata": {},
   "outputs": [
    {
     "name": "stdout",
     "output_type": "stream",
     "text": [
      "sum of args: 6\n",
      "test=5\n",
      "p=Hello, World\n",
      "\n"
     ]
    }
   ],
   "source": [
    "print(s)"
   ]
  },
  {
   "cell_type": "code",
   "execution_count": 13,
   "metadata": {},
   "outputs": [
    {
     "ename": "TypeError",
     "evalue": "unsupported operand type(s) for +: 'int' and 'str'",
     "output_type": "error",
     "traceback": [
      "\u001b[0;31m---------------------------------------------------------------------------\u001b[0m",
      "\u001b[0;31mTypeError\u001b[0m                                 Traceback (most recent call last)",
      "\u001b[0;32m<ipython-input-13-ba16f1f9bce2>\u001b[0m in \u001b[0;36m<module>\u001b[0;34m\u001b[0m\n\u001b[0;32m----> 1\u001b[0;31m \u001b[0mt\u001b[0m \u001b[0;34m=\u001b[0m \u001b[0mfn\u001b[0m\u001b[0;34m(\u001b[0m\u001b[0;36m4\u001b[0m\u001b[0;34m,\u001b[0m \u001b[0;36m5\u001b[0m\u001b[0;34m,\u001b[0m \u001b[0;36m6\u001b[0m\u001b[0;34m,\u001b[0m\u001b[0;34m'hi'\u001b[0m\u001b[0;34m,\u001b[0m \u001b[0mgreeting\u001b[0m \u001b[0;34m=\u001b[0m \u001b[0;34m'Hello'\u001b[0m\u001b[0;34m,\u001b[0m \u001b[0mrecipient\u001b[0m \u001b[0;34m=\u001b[0m \u001b[0;34m'World'\u001b[0m\u001b[0;34m)\u001b[0m\u001b[0;34m\u001b[0m\u001b[0;34m\u001b[0m\u001b[0m\n\u001b[0m\u001b[1;32m      2\u001b[0m \u001b[0mprint\u001b[0m\u001b[0;34m(\u001b[0m\u001b[0mt\u001b[0m\u001b[0;34m)\u001b[0m\u001b[0;34m\u001b[0m\u001b[0;34m\u001b[0m\u001b[0m\n",
      "\u001b[0;32m<ipython-input-9-d5648288ab49>\u001b[0m in \u001b[0;36mfn\u001b[0;34m(*args, **kwargs)\u001b[0m\n\u001b[1;32m      3\u001b[0m \u001b[0;32mdef\u001b[0m \u001b[0mfn\u001b[0m\u001b[0;34m(\u001b[0m\u001b[0;34m*\u001b[0m\u001b[0margs\u001b[0m\u001b[0;34m,\u001b[0m \u001b[0;34m**\u001b[0m\u001b[0mkwargs\u001b[0m\u001b[0;34m)\u001b[0m\u001b[0;34m:\u001b[0m\u001b[0;34m\u001b[0m\u001b[0;34m\u001b[0m\u001b[0m\n\u001b[1;32m      4\u001b[0m \u001b[0;31m# Task 2 - Perform an opetation on th elist of arguments\u001b[0m\u001b[0;34m\u001b[0m\u001b[0;34m\u001b[0m\u001b[0;34m\u001b[0m\u001b[0m\n\u001b[0;32m----> 5\u001b[0;31m     \u001b[0mtotal\u001b[0m \u001b[0;34m=\u001b[0m \u001b[0msum\u001b[0m\u001b[0;34m(\u001b[0m\u001b[0margs\u001b[0m\u001b[0;34m)\u001b[0m\u001b[0;34m\u001b[0m\u001b[0;34m\u001b[0m\u001b[0m\n\u001b[0m\u001b[1;32m      6\u001b[0m     \u001b[0mretval\u001b[0m \u001b[0;34m=\u001b[0m \u001b[0;34mf'sum of args: {total}\\n'\u001b[0m\u001b[0;34m\u001b[0m\u001b[0;34m\u001b[0m\u001b[0m\n\u001b[1;32m      7\u001b[0m \u001b[0;34m\u001b[0m\u001b[0m\n",
      "\u001b[0;31mTypeError\u001b[0m: unsupported operand type(s) for +: 'int' and 'str'"
     ]
    }
   ],
   "source": [
    "t = fn(4, 5, 6,'hi', greeting = 'Hello', recipient = 'World')\n",
    "print(t) #expect error from 'hi'"
   ]
  },
  {
   "cell_type": "code",
   "execution_count": 14,
   "metadata": {},
   "outputs": [
    {
     "name": "stdout",
     "output_type": "stream",
     "text": [
      "sum of args: 15\n",
      "greeting=Hello\n",
      "recipient=World\n",
      "\n"
     ]
    }
   ],
   "source": [
    "t = fn(4, 5, 6, greeting = 'Hello', recipient = 'World')\n",
    "print(t)"
   ]
  },
  {
   "cell_type": "markdown",
   "metadata": {},
   "source": [
    "## Function Recursion and Closures"
   ]
  },
  {
   "cell_type": "markdown",
   "metadata": {},
   "source": [
    "Complete the tasks in sequence\n",
    "\n",
    "Create a Python function <br>\n",
    "Create an inner function to act as a closure <br>\n",
    "Return the closure function object <br>\n",
    "Call the function to return a value that changes each time it is called"
   ]
  },
  {
   "cell_type": "code",
   "execution_count": 21,
   "metadata": {},
   "outputs": [],
   "source": [
    "# Task 1 - Create. a python function\n",
    "def fn_next(begin):\n",
    "    current = begin\n",
    "    \n",
    "# Task 2 - Create an inner function to act as a closure\n",
    "    def fn_inc():\n",
    "        nonlocal current\n",
    "        current += 1\n",
    "        return current\n",
    "    return fn_inc # Return the inner function in the outer function\n",
    "\n",
    "# Task 3 - Return the closure function object\n",
    "get_next = fn_next(100)\n",
    "\n"
   ]
  },
  {
   "cell_type": "code",
   "execution_count": 22,
   "metadata": {},
   "outputs": [
    {
     "name": "stdout",
     "output_type": "stream",
     "text": [
      "101\n",
      "102\n",
      "103\n",
      "104\n",
      "105\n",
      "106\n",
      "107\n"
     ]
    }
   ],
   "source": [
    "# Task 4 - Call the function to return a value that changes each time it\n",
    "## is called\n",
    "print(get_next())\n",
    "print(get_next())\n",
    "print(get_next())\n",
    "print(get_next())\n",
    "print(get_next())\n",
    "print(get_next())\n",
    "print(get_next())"
   ]
  },
  {
   "cell_type": "code",
   "execution_count": null,
   "metadata": {},
   "outputs": [],
   "source": []
  }
 ],
 "metadata": {
  "kernelspec": {
   "display_name": "Python 3",
   "language": "python",
   "name": "python3"
  },
  "language_info": {
   "codemirror_mode": {
    "name": "ipython",
    "version": 3
   },
   "file_extension": ".py",
   "mimetype": "text/x-python",
   "name": "python",
   "nbconvert_exporter": "python",
   "pygments_lexer": "ipython3",
   "version": "3.7.3"
  }
 },
 "nbformat": 4,
 "nbformat_minor": 2
}
