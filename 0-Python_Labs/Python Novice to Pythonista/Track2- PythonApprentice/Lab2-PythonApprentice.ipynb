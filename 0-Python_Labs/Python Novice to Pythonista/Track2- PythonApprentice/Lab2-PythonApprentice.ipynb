{
 "cells": [
  {
   "cell_type": "markdown",
   "metadata": {},
   "source": [
    "## File Handling"
   ]
  },
  {
   "cell_type": "markdown",
   "metadata": {},
   "source": [
    "Complete the tasks in sequence\n",
    "\n",
    "Load the contents of the CSV file <br>\n",
    "Handle file and csv format exceptions <br>\n",
    "Process or filter the data as necessary <br>\n",
    "Save the resulting data to a file in JSON format"
   ]
  },
  {
   "cell_type": "code",
   "execution_count": 1,
   "metadata": {},
   "outputs": [],
   "source": [
    "# Task 1 + 2\n",
    "import csv\n",
    "import json\n",
    "import sys"
   ]
  },
  {
   "cell_type": "code",
   "execution_count": 2,
   "metadata": {},
   "outputs": [],
   "source": [
    "# Load the content of a CSV file \n",
    "# Handle file and csv format exections\n",
    "input_filename = 'iris.csv'\n",
    "output_filename = 'iris-summary.json'"
   ]
  },
  {
   "cell_type": "code",
   "execution_count": 3,
   "metadata": {},
   "outputs": [
    {
     "data": {
      "text/plain": [
       "'iris.csv'"
      ]
     },
     "execution_count": 3,
     "metadata": {},
     "output_type": "execute_result"
    }
   ],
   "source": [
    "input_filename"
   ]
  },
  {
   "cell_type": "code",
   "execution_count": 4,
   "metadata": {},
   "outputs": [
    {
     "name": "stdout",
     "output_type": "stream",
     "text": [
      "Type of data: <class 'list'>\n"
     ]
    }
   ],
   "source": [
    "data = []\n",
    "try:\n",
    "    with open(input_filename) as f:\n",
    "        csv_data = csv.DictReader(f)\n",
    "        for rec in csv_data:\n",
    "            data.append(rec)\n",
    "            \n",
    "except IOError:\n",
    "    print('Failed to read file.')\n",
    "    \n",
    "if not data:\n",
    "    raise ValueError('No data found')\n",
    "    \n",
    "# Task 3 - Process or filter the data s necessary\n",
    "print('Type of data: {}'.format(type(data)))\n",
    "species = set()\n",
    "counts = {}\n",
    "for s in data:\n",
    "    species.add(s['species'])\n",
    "    if s['species'] in counts:\n",
    "        counts[s['species']] += 1\n",
    "    else:\n",
    "        counts[s['species']] = 1\n",
    "        \n",
    "result = {\n",
    "    'species' : list(species),\n",
    "    'counts' : counts\n",
    "}\n",
    "\n",
    "# Task 4 - Save the resulting data to a file in JSON format\n",
    "try:\n",
    "    with open(output_filename, 'w') as f:\n",
    "        json.dump(result, f, indent=2)\n",
    "except IOError:\n",
    "    print('Failed to write JSON file.')\n",
    "except:\n",
    "    print(sys.exc_info())"
   ]
  },
  {
   "cell_type": "markdown",
   "metadata": {},
   "source": [
    "## Object Oriented Programming"
   ]
  },
  {
   "cell_type": "markdown",
   "metadata": {},
   "source": [
    "Complete the tasks in sequence\n",
    "\n",
    "Implement a Python class to be derived <br>\n",
    "Implement methods in the class <br>\n",
    "Implement a subclass <br>\n",
    "Override methods in the subclass <br>\n",
    "Demonstrate use of the classes by printing results and output to the console"
   ]
  },
  {
   "cell_type": "code",
   "execution_count": 6,
   "metadata": {},
   "outputs": [],
   "source": [
    "# Task 1 - Implement a python class to be delivered\n",
    "class Service:\n",
    "    \n",
    "    def __init__(self, host, port):\n",
    "        self.host = host\n",
    "        self.port = port\n",
    "        \n",
    "# Task 2- Implement methods in the class\n",
    "    def getService(self):\n",
    "        return f'{self.host}:{self.port}'\n",
    "    \n",
    "    def getData(self):\n",
    "        return ''"
   ]
  },
  {
   "cell_type": "code",
   "execution_count": 7,
   "metadata": {},
   "outputs": [],
   "source": [
    "# Task 3 - Implement a subclass\n",
    "class Web(Service):\n",
    "    \n",
    "    def __init__(self, protocol='http', host='0.0.0.0', port=80):\n",
    "        super().__init__(host, port)\n",
    "        self.protocol=protocol\n",
    "        \n",
    "# Task 4 - Override methods in the subclass\n",
    "    def getService(self):\n",
    "        return f'{self.protocol}://{self.host}:{self.port}'\n",
    "    \n",
    "    def getData(self):\n",
    "        return '<html>...</html>'\n",
    "        \n",
    "class Mail(Service):\n",
    "    def __init__(self, method='IMAP', host='0.0.0.0', port=143):\n",
    "        super().__init__(host,port)\n",
    "        self.method=method\n",
    "        \n",
    "    def getData(self):\n",
    "        return 'To: <steve@example.com>\\nFrom: <jane@example.com>\\nContent-Type: text/plain;\\n\\nHello, World!\\n'\n",
    "    "
   ]
  },
  {
   "cell_type": "code",
   "execution_count": 8,
   "metadata": {},
   "outputs": [
    {
     "name": "stdout",
     "output_type": "stream",
     "text": [
      "Service: 0.0.0.0:8888\n",
      "\n"
     ]
    }
   ],
   "source": [
    "# Task 5 - Demonstrate use of the classes by printing results and output to the console\n",
    "s = Service('0.0.0.0', 8888)\n",
    "print(f'Service: {s.getService()}')\n",
    "print()\n"
   ]
  },
  {
   "cell_type": "code",
   "execution_count": 9,
   "metadata": {},
   "outputs": [
    {
     "name": "stdout",
     "output_type": "stream",
     "text": [
      "Web Service: http://0.0.0.0:80\n",
      "<html>...</html>\n",
      "\n"
     ]
    }
   ],
   "source": [
    "http = Web()\n",
    "print(f'Web Service: {http.getService()}')\n",
    "print(http.getData())\n",
    "print()"
   ]
  },
  {
   "cell_type": "code",
   "execution_count": 10,
   "metadata": {},
   "outputs": [
    {
     "name": "stdout",
     "output_type": "stream",
     "text": [
      "Mail Service: 0.0.0.0:143\n",
      "To: <steve@example.com>\n",
      "From: <jane@example.com>\n",
      "Content-Type: text/plain;\n",
      "\n",
      "Hello, World!\n",
      "\n"
     ]
    }
   ],
   "source": [
    "mail = Mail(method='POP3')\n",
    "print(f'Mail Service: {mail.getService()}')\n",
    "print(mail.getData())"
   ]
  },
  {
   "cell_type": "markdown",
   "metadata": {},
   "source": [
    "## Special Method Names"
   ]
  },
  {
   "cell_type": "markdown",
   "metadata": {},
   "source": [
    "Complete the tasks in sequence\n",
    "\n",
    "Create a basic Python class <br>\n",
    "Implement an __init__ method <br>\n",
    "Implement __repr__ and __str__ methods <br>\n",
    "Implement comparison or numeric special methods as appropriate for your class"
   ]
  },
  {
   "cell_type": "code",
   "execution_count": 13,
   "metadata": {},
   "outputs": [],
   "source": [
    "# Task 1 and 2\n",
    "from functools import total_ordering\n",
    "\n",
    "# Create a basic python class\n",
    "@total_ordering\n",
    "class Book:\n",
    "#Implement an __init_method\n",
    "    def __init__(self, title, author, isbn):\n",
    "        self.title = title\n",
    "        self.author = author\n",
    "        self.isbn = isbn\n",
    "        \n",
    "# Task 3 - Implement __repr__ and __str__ methods\n",
    "    def __repr__(self):\n",
    "        return '<{0}.{1} object at {2}> ({3}, {4}, {5})'.format(self.__module__, type(self).__name__, hex(id(self)),\n",
    "                                                              self.title, self.author, self.isbn)\n",
    "    \n",
    "    def __str__(self):\n",
    "        return f' \"{self.title}\" by \"{self.author}\"; ISBN: {self.isbn}'\n",
    "    \n",
    "    def __lt__(self, other):\n",
    "        return (self.author < other.author) or \\\n",
    "            (self.author == other.author and self.title < other.title)\n",
    "        \n",
    "    \n",
    "    def __eq__(self, other):\n",
    "        return (self.author == other.author and self.title == other.title)"
   ]
  },
  {
   "cell_type": "code",
   "execution_count": 14,
   "metadata": {},
   "outputs": [
    {
     "name": "stdout",
     "output_type": "stream",
     "text": [
      " \"Ulysses\" by \"Joyce, James\"; ISBN: 9780679722762\n",
      "<__main__.Book object at 0x7fc9e58ef7f0> (Ulysses, Joyce, James, 9780679722762)\n",
      "b == b2: True\n"
     ]
    }
   ],
   "source": [
    "# Task 4 - Implement comparison or numeric special methods as appropriate for your class\n",
    "b = Book('Ulysses', 'Joyce, James', '9780679722762')\n",
    "b2 = Book('Ulysses', 'Joyce, James', '9780679722762')\n",
    "\n",
    "print(b)\n",
    "print(repr(b))\n",
    "print('b == b2: {}'.format(b==b2))"
   ]
  },
  {
   "cell_type": "code",
   "execution_count": 15,
   "metadata": {},
   "outputs": [
    {
     "name": "stdout",
     "output_type": "stream",
     "text": [
      "d < b: True\n"
     ]
    }
   ],
   "source": [
    "d = Book('Pride and Prejudice', 'Austen, Jane', 'N/A')\n",
    "print('d < b: {}'.format(d<b))"
   ]
  },
  {
   "cell_type": "markdown",
   "metadata": {},
   "source": [
    "## Static and Abstract Classes"
   ]
  },
  {
   "cell_type": "markdown",
   "metadata": {},
   "source": [
    "\n",
    "Complete the tasks in sequence\n",
    "\n",
    "Create a class that implements an abstract method <br>\n",
    "Create a subclass <br>\n",
    "Implement a static method in the subclass <br>\n",
    "Instantiate the class and output its contents <br>"
   ]
  },
  {
   "cell_type": "code",
   "execution_count": 16,
   "metadata": {},
   "outputs": [],
   "source": [
    "# Task 1 - Create a class that implements an abstract method\n",
    "from abc import ABC, abstractmethod"
   ]
  },
  {
   "cell_type": "code",
   "execution_count": 17,
   "metadata": {},
   "outputs": [],
   "source": [
    "class Post(ABC):\n",
    "    @abstractmethod\n",
    "    def getTitle(self):\n",
    "        pass\n",
    "    \n",
    "    @abstractmethod\n",
    "    def getText(self):\n",
    "        pass"
   ]
  },
  {
   "cell_type": "code",
   "execution_count": 18,
   "metadata": {},
   "outputs": [],
   "source": [
    "# Task 2 + 3 - Create a subclass\n",
    "# Implement a static method in the subclass\n",
    "class Link(Post):\n",
    "    def __init__(self, title, url):\n",
    "        self.title = title\n",
    "        self.url = url\n",
    "        \n",
    "    def getTitle(self):\n",
    "        return self.title\n",
    "        \n",
    "    def getText(self):\n",
    "        return self.url"
   ]
  },
  {
   "cell_type": "code",
   "execution_count": 19,
   "metadata": {},
   "outputs": [],
   "source": [
    "class Comment(Post):\n",
    "    def __init__(self, title, comment, user):\n",
    "        self.title = title\n",
    "        if(len(comment) > 500):\n",
    "            raise ValueError('Comment too long.')\n",
    "        self.comment = comment\n",
    "        self.user = user\n",
    "        \n",
    "    def getTitle(self):\n",
    "        return self.title\n",
    "    \n",
    "    def getText(self):\n",
    "        return self.comment\n",
    "    \n",
    "    def getUser(self):\n",
    "        return self.user"
   ]
  },
  {
   "cell_type": "code",
   "execution_count": 20,
   "metadata": {},
   "outputs": [],
   "source": [
    "class Article(Post):\n",
    "    def __init__(self, title, body):\n",
    "        self.title = title\n",
    "        self.body = body\n",
    "        \n",
    "    def getTitle(self):\n",
    "        return self.title\n",
    "    \n",
    "    def getText(self):\n",
    "        return self.body\n",
    "    "
   ]
  },
  {
   "cell_type": "code",
   "execution_count": 21,
   "metadata": {},
   "outputs": [
    {
     "name": "stdout",
     "output_type": "stream",
     "text": [
      "http://example.com/link.html\n",
      "\n"
     ]
    }
   ],
   "source": [
    "# Task 4 - Instantiate the class and output its contents\n",
    "posts = []\n",
    "a = Link('Link title', 'http://example.com/link.html')\n",
    "posts.append(a)\n",
    "print(a.getText())\n",
    "print()"
   ]
  },
  {
   "cell_type": "code",
   "execution_count": 23,
   "metadata": {},
   "outputs": [
    {
     "name": "stdout",
     "output_type": "stream",
     "text": [
      "Link title\n",
      "Comment title\n",
      "Article title\n"
     ]
    }
   ],
   "source": [
    "b = Comment('Comment title', 'comment', 'Steve')\n",
    "c = Article('Article title', 'Article text')\n",
    "posts.append(b)\n",
    "posts.append(c)\n",
    "\n",
    "for p in posts:\n",
    "    print(p.getTitle())"
   ]
  },
  {
   "cell_type": "markdown",
   "metadata": {},
   "source": [
    "## Use a List as a Stack"
   ]
  },
  {
   "cell_type": "markdown",
   "metadata": {},
   "source": [
    "Complete the tasks in sequence\n",
    "\n",
    "Create a List to be used as a stack <br>\n",
    "Push elements onto the stack <br>\n",
    "Pop elements off of the stack <br>\n",
    "Output the contents of the stack <br>"
   ]
  },
  {
   "cell_type": "code",
   "execution_count": 26,
   "metadata": {},
   "outputs": [],
   "source": [
    "# Task 1 - Crate a list to be used as a stack\n",
    "\n",
    "class Stack:\n",
    "    def __init__(self, initial_values, max_size=None):\n",
    "        if isinstance(initial_values, list):\n",
    "            self.stack = initial_values\n",
    "        else:\n",
    "            self.stack = [initial_values]\n",
    "            \n",
    "        self.max_size = max_size\n",
    "        self.size = len(self.stack)\n",
    "    \n",
    "    def push(self, value):\n",
    "        if self.max_size:\n",
    "            if self.size < self.max_size:\n",
    "                self.stack.append(value)\n",
    "                self.size += 1\n",
    "            else:\n",
    "                raise ValueError('Stack is full!')\n",
    "        else:\n",
    "            self.stack.append(value)\n",
    "            self.size += 1\n",
    "            \n",
    "    def top(self):\n",
    "        if self.is_empty():\n",
    "            return None\n",
    "        return self.stack[-1]\n",
    "    \n",
    "    def pop(self):\n",
    "        if self.size > 0:\n",
    "            if self.stack.pop():\n",
    "                self.size -= 1\n",
    "                return True\n",
    "        return False\n",
    "    \n",
    "    def __len__(self):\n",
    "        return self.size\n",
    "    \n",
    "    def __str__(self):\n",
    "        return f'{self.stack}'\n",
    "            "
   ]
  },
  {
   "cell_type": "code",
   "execution_count": 27,
   "metadata": {},
   "outputs": [
    {
     "name": "stdout",
     "output_type": "stream",
     "text": [
      "['Steve', 'Jane', 'Jim', 'Alice', 'Bob']\n"
     ]
    }
   ],
   "source": [
    "# Task 2 - Push elements onto the stack\n",
    "stack = Stack(['Steve', 'Jane', 'Jim'])\n",
    "stack.push('Alice')\n",
    "stack.push('Bob')\n",
    "print(stack)"
   ]
  },
  {
   "cell_type": "code",
   "execution_count": 28,
   "metadata": {},
   "outputs": [
    {
     "name": "stdout",
     "output_type": "stream",
     "text": [
      "True\n",
      "['Steve', 'Jane', 'Jim', 'Alice']\n",
      "True\n",
      "['Steve', 'Jane', 'Jim']\n"
     ]
    }
   ],
   "source": [
    "# Task 3 + 4\n",
    "# Pop elements off of the stack\n",
    "# Output the contents of the stack\n",
    "print(stack.pop())\n",
    "print(stack)\n",
    "print(stack.pop())\n",
    "print(stack)"
   ]
  },
  {
   "cell_type": "code",
   "execution_count": 29,
   "metadata": {},
   "outputs": [
    {
     "name": "stdout",
     "output_type": "stream",
     "text": [
      "Stack is empty!\n"
     ]
    }
   ],
   "source": [
    "while len(stack) > 0:\n",
    "    stack.pop()\n",
    "    \n",
    "if len(stack) == 0:\n",
    "    print('Stack is empty!')"
   ]
  },
  {
   "cell_type": "markdown",
   "metadata": {},
   "source": [
    "## Python Queues"
   ]
  },
  {
   "cell_type": "markdown",
   "metadata": {},
   "source": [
    "Complete the tasks in sequence\n",
    "\n",
    "Implement a queue using the appropriate Python collection <br>\n",
    "Add elements to the queue<br>\n",
    "Pop elements from the queue in first-in, first-out fashion <br>\n",
    "Display the final contents of the queue <br>"
   ]
  },
  {
   "cell_type": "code",
   "execution_count": 21,
   "metadata": {},
   "outputs": [],
   "source": [
    "# Task 1 - Implement a queue using the appropriate pyton collection\n",
    "from collections import deque\n",
    "\n",
    "class Queue(object):\n",
    "    def __init__(self, initial_values, max_size=None):\n",
    "        self.queue = deque(initial_values)\n",
    "        self.max_size = max_size\n",
    "        self.size = len(initial_values)\n",
    "        \n",
    "    def push(self, value):\n",
    "        if self.max_size:\n",
    "            if self.size < self.max_size:\n",
    "                self.queue.append(value)\n",
    "                self.size += 1\n",
    "            else:\n",
    "                raise ValueError('Queue is full!')\n",
    "        else:\n",
    "            self.queue.append(value)\n",
    "            self.size += 1\n",
    "            \n",
    "    def top(self):\n",
    "        if self.is_empty():\n",
    "            return None\n",
    "        return self.queue[0]\n",
    "    \n",
    "    def pop(self):\n",
    "        if self.size > 0:\n",
    "            if self.queue.popleft():\n",
    "                self.size -= 1\n",
    "                return True\n",
    "            return False\n",
    "        \n",
    "    def is_empty(self):\n",
    "        if self.size == 0:\n",
    "            return True\n",
    "        return False\n",
    "    \n",
    "    def __len__(self):\n",
    "        return self.size\n",
    "    \n",
    "    def __str__(self):\n",
    "        return f'{self.queue}'\n"
   ]
  },
  {
   "cell_type": "code",
   "execution_count": 22,
   "metadata": {},
   "outputs": [
    {
     "name": "stdout",
     "output_type": "stream",
     "text": [
      "3\n",
      "\n"
     ]
    }
   ],
   "source": [
    "queue = Queue(['Steve', 'Jane', 'Joe'], 6)\n",
    "print(len(queue))\n",
    "print()"
   ]
  },
  {
   "cell_type": "code",
   "execution_count": 23,
   "metadata": {},
   "outputs": [],
   "source": [
    "# Task 2 - Add elements t the queue\n",
    "queue.push('Alice')\n",
    "queue.push('Bob')\n",
    "queue.push('James')\n",
    "#queue.push('Sally')"
   ]
  },
  {
   "cell_type": "code",
   "execution_count": 24,
   "metadata": {},
   "outputs": [
    {
     "name": "stdout",
     "output_type": "stream",
     "text": [
      "deque(['Steve', 'Jane', 'Joe', 'Alice', 'Bob', 'James'])\n",
      "6\n",
      "\n"
     ]
    }
   ],
   "source": [
    "print(queue)\n",
    "print(len(queue))\n",
    "print()"
   ]
  },
  {
   "cell_type": "code",
   "execution_count": 25,
   "metadata": {},
   "outputs": [
    {
     "name": "stdout",
     "output_type": "stream",
     "text": [
      "Steve\n",
      "deque(['Jane', 'Joe', 'Alice', 'Bob', 'James'])\n",
      "deque(['Jane', 'Joe', 'Alice', 'Bob', 'James', 'Mallory'])\n",
      "Jane\n",
      "\n"
     ]
    }
   ],
   "source": [
    "# Task 3 - Pop elements fro mthe queue in first-in, first-out fashion\n",
    "print(queue.top())\n",
    "queue.pop()\n",
    "print(queue)\n",
    "queue.push('Mallory')\n",
    "print(queue)\n",
    "print(queue.top())\n",
    "print()"
   ]
  },
  {
   "cell_type": "code",
   "execution_count": 26,
   "metadata": {},
   "outputs": [
    {
     "name": "stdout",
     "output_type": "stream",
     "text": [
      "deque(['Jane', 'Joe', 'Alice', 'Bob', 'James', 'Mallory'])\n",
      "deque(['Joe', 'Alice', 'Bob', 'James', 'Mallory'])\n",
      "deque(['Alice', 'Bob', 'James', 'Mallory'])\n",
      "deque(['Bob', 'James', 'Mallory'])\n",
      "deque(['James', 'Mallory'])\n",
      "deque(['Mallory'])\n",
      "deque([])\n"
     ]
    }
   ],
   "source": [
    "# Task 4 - Display the final ontents of the queue\n",
    "print(queue)\n",
    "\n",
    "while len(queue) > 0:\n",
    "    queue.pop()\n",
    "    print(queue)"
   ]
  },
  {
   "cell_type": "markdown",
   "metadata": {},
   "source": [
    "## Graphs as an Adjacency Matrix"
   ]
  },
  {
   "cell_type": "markdown",
   "metadata": {},
   "source": [
    "Complete the tasks in sequence\n",
    "\n",
    "Create a graph class that implements an adjacency matrix <br>\n",
    "Implement a method to add an edge to the graph <br>\n",
    "Implement a method to remove an edge from the graph <br>\n",
    "Implement a method to display the contents of the matrix <br>\n",
    "Construct a graph and display its contents"
   ]
  },
  {
   "cell_type": "code",
   "execution_count": 46,
   "metadata": {},
   "outputs": [],
   "source": [
    "# Task 1 - Create a graph class that implements an adjacency matrix\n",
    "class Graph:\n",
    "    def __init__(self, size):\n",
    "        self.m = []\n",
    "        for _ in range(size):\n",
    "            self.m.append([0] * size)\n",
    "        self.size = size\n",
    "\n",
    "# Task 2 - Implement a method to add an edge to a graph        \n",
    "    def add(self, v, w):\n",
    "        if v == w:\n",
    "            raise ValueError('Cannot add an edge to itself.')\n",
    "        self.m[v][w] = 1\n",
    "        self.m[w][v] = 1\n",
    "        \n",
    "# Task 3 - Implement a method to remove an edge from a graph\n",
    "    def remove(self, v, w):\n",
    "        if self.m[v][w] == 0:\n",
    "            return\n",
    "        self.m[v][w] = 0\n",
    "        self.m[w][v] = 0\n",
    "        \n",
    "# Task 4 - Implement a method to display the content of the matrix\n",
    "    def __str__(self):\n",
    "        retval = ''\n",
    "        for i in self.m:\n",
    "            for j in i:\n",
    "                retval += f'{j}\\t'\n",
    "            retval += '\\n'\n",
    "        return retval"
   ]
  },
  {
   "cell_type": "code",
   "execution_count": 47,
   "metadata": {},
   "outputs": [
    {
     "name": "stdout",
     "output_type": "stream",
     "text": [
      "0\t0\t0\t1\t0\t1\t\n",
      "0\t0\t0\t0\t1\t0\t\n",
      "0\t0\t0\t0\t0\t1\t\n",
      "1\t0\t0\t0\t0\t0\t\n",
      "0\t1\t0\t0\t0\t0\t\n",
      "1\t0\t1\t0\t0\t0\t\n",
      "\n"
     ]
    }
   ],
   "source": [
    "# Task 5 - Construct a graph and display its contents\n",
    "graph = Graph(6)\n",
    "graph.add(0, 3)\n",
    "graph.add(1, 4)\n",
    "graph.add(2, 5)\n",
    "graph.add(0, 5)\n",
    "\n",
    "print(graph)\n"
   ]
  },
  {
   "cell_type": "markdown",
   "metadata": {},
   "source": [
    "## Tree Traversal"
   ]
  },
  {
   "cell_type": "markdown",
   "metadata": {},
   "source": [
    "Complete the tasks in sequence\n",
    "\n",
    "Create a class to implement a binary search tree <br>\n",
    "Implement an insertion method <br>\n",
    "Implement a method to traverse the tree in depth-first order <br>\n",
    "Implement a method to traverse the tree in breadth-first order <br>\n",
    "Create an instance of the tree and insert data <br>\n",
    "Display the data points in their traversal orders"
   ]
  },
  {
   "cell_type": "code",
   "execution_count": 58,
   "metadata": {},
   "outputs": [],
   "source": [
    "# Task 1 - Create a class to implement a binary search tree\n",
    "class Node:\n",
    "    def __init__(self, value):\n",
    "        self.value = value\n",
    "        self.right = None\n",
    "        self.left = None\n",
    "        \n",
    "# Task 2 - Implement an insertion method\n",
    "    def insert(self,value):\n",
    "        if self.value != value:\n",
    "            if value > self.value:\n",
    "                if self.right is None:\n",
    "                    self.right = Node(value)\n",
    "                else:\n",
    "                    self.right.insert(value)\n",
    "            elif value < self. value:\n",
    "                if self.left is None:\n",
    "                    self.left = Node(value)\n",
    "                else:\n",
    "                    self.left.insert(value)\n",
    "                    \n",
    "# Task 3 - Implement a method to traverse the tree in depth-first order\n",
    "    def depth_traversal(self, node):\n",
    "        items = []\n",
    "        if node:\n",
    "            items.append(node.value)\n",
    "            items = items + self.depth_traversal(node.left)\n",
    "            items = items + self.depth_traversal(node.right)\n",
    "        return items\n",
    "    \n",
    "# Task 4 - Implement a method to traverse the tree in a breadth-first order\n",
    "    def breadth_first(self, node):\n",
    "        items = []\n",
    "        if node:\n",
    "            items = self.breadth_first(node.left)\n",
    "            items.append(node.value)\n",
    "            items = items + self.breadth_first(node.right)\n",
    "        return items "
   ]
  },
  {
   "cell_type": "code",
   "execution_count": 59,
   "metadata": {},
   "outputs": [],
   "source": [
    "#  Task 5 - Create an instance of the tree and insert data\n",
    "node = Node(10)\n",
    "node.insert(5)\n",
    "node.insert(25)\n",
    "node.insert(12)\n",
    "node.insert(33)\n",
    "node.insert(18)"
   ]
  },
  {
   "cell_type": "code",
   "execution_count": 60,
   "metadata": {},
   "outputs": [
    {
     "name": "stdout",
     "output_type": "stream",
     "text": [
      "depth first order: [10, 5, 25, 12, 18, 33]\n",
      "Breadth first order: [5, 10, 12, 18, 25, 33]\n"
     ]
    }
   ],
   "source": [
    "# Task 6 - Display the data points in their traversal orders\n",
    "print('depth first order: {}'.format(node.depth_traversal(node)))\n",
    "print('Breadth first order: {}'.format(node.breadth_first(node)))"
   ]
  },
  {
   "cell_type": "code",
   "execution_count": null,
   "metadata": {},
   "outputs": [],
   "source": []
  }
 ],
 "metadata": {
  "kernelspec": {
   "display_name": "Python 3",
   "language": "python",
   "name": "python3"
  },
  "language_info": {
   "codemirror_mode": {
    "name": "ipython",
    "version": 3
   },
   "file_extension": ".py",
   "mimetype": "text/x-python",
   "name": "python",
   "nbconvert_exporter": "python",
   "pygments_lexer": "ipython3",
   "version": "3.7.3"
  }
 },
 "nbformat": 4,
 "nbformat_minor": 2
}
