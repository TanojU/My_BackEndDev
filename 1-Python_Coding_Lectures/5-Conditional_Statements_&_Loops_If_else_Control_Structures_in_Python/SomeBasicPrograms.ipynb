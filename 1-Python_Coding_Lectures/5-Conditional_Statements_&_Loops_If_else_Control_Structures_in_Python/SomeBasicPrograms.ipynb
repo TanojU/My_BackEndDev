{
 "cells": [
  {
   "cell_type": "code",
   "execution_count": 1,
   "metadata": {},
   "outputs": [
    {
     "name": "stdout",
     "output_type": "stream",
     "text": [
      "Enter salary amount: 700\n",
      "Enter expenses: 230\n",
      "My total savings in a month is:  470\n"
     ]
    }
   ],
   "source": [
    "salary = int(input(\"Enter salary amount: \")) # ask for the salary amount - cast value as int\n",
    "expenses = int(input(\"Enter expenses: \")) # as for the expenses amount - cast value as int\n",
    "\n",
    "savings = salary - expenses # calculate savings\n",
    "\n",
    "print(\"My total savings in a month is: \", savings) # print the value of savings\n",
    "\n",
    "# Question - Write a program to calculate the amount of savings."
   ]
  },
  {
   "cell_type": "code",
   "execution_count": 1,
   "metadata": {},
   "outputs": [
    {
     "name": "stdout",
     "output_type": "stream",
     "text": [
      "Enter first variable: 20\n",
      "Enter second variable: 25\n",
      "\n",
      "First_num is: 25 \n",
      "Second_num is: 20\n"
     ]
    }
   ],
   "source": [
    "first_num = int(input(\"Enter first variable: \")) # ask for 1st number - cast value as int     \n",
    "second_num = int(input(\"Enter second variable: \")) # ask for 2nd number - cast value as int\n",
    "\n",
    "first_num = first_num + second_num # add 1st and 2nd numbers and assign the value to first_num      \n",
    "second_num = first_num - second_num  # minus 2nd number from the new 1st number and assign the value to second_num\n",
    "    # second_num = [(first_num + second_num) - second_num] = first_num\n",
    "first_num = first_num - second_num # minus 2nd number from the new 1st number and assign the value to first_num\n",
    "    # first_num = (first_num + second_num) - (first_num) = second_num\n",
    "\n",
    "print (\"\\nFirst_num is:\", first_num , \"\\nSecond_num is:\", second_num)\n",
    "# print the new 1st and 2nd numbers in new lines\n",
    "\n",
    "# Question - write a program that takes 2 numbers and swaps the order: (1st to 2nd) and (2nd to 1st)"
   ]
  },
  {
   "cell_type": "code",
   "execution_count": 3,
   "metadata": {},
   "outputs": [
    {
     "name": "stdout",
     "output_type": "stream",
     "text": [
      "Enter a number: 12\n",
      "12 + 1212 + 121212 = 122436\n"
     ]
    }
   ],
   "source": [
    "num = int(input(\"Enter a number: \")) # ask user to enter a number - cast value as int and assign to num\n",
    "\n",
    "temp1 = str(num) # assign temp1 the string value of num                      \n",
    "temp2 = temp1 + temp1 # concatenate temp1 with temp1 and assign string to variable temp2                 \n",
    "temp3 = temp1 + temp1 + temp1 # concatenate temp1 3 times and assign to variable temp3          \n",
    "\n",
    "total = num + (int(temp2) + int(temp3)) # add up the int values of user input, along with the concatenated int values\n",
    "## of temp2 and temp3 and assign the value to total\n",
    "\n",
    "print(temp1, '+', temp2, '+', temp3, '=', total) # print the values of temp1, temp2 and temp3 in a \n",
    "## statement = to total\n",
    "\n",
    "# Question: Ask the user to imput a number, concatenate the the user input twice and three times, \n",
    "## then some up these values along with the original input and calculate the total\n",
    "## hint - convert to strings to concatenate user input and convert back to int to calculate total"
   ]
  },
  {
   "cell_type": "code",
   "execution_count": 1,
   "metadata": {},
   "outputs": [
    {
     "name": "stdout",
     "output_type": "stream",
     "text": [
      "Enter first number: 13\n",
      "Enter second number: 4\n",
      "\n",
      "Quotient: 3\n",
      "Remainder: 1\n"
     ]
    }
   ],
   "source": [
    "num_1 = int(input(\"Enter first number: \")) # ask user to enter 1st number and assign to num_1\n",
    "num_2 = int(input(\"Enter second number: \")) # ask user to enter 2nd number and assign to num_2\n",
    "\n",
    "Quotient = int(num_1 / num_2) # calculate the quotent of num_1/num_2\n",
    "print(\"\\nQuotient:\", Quotient) # print out quotent on a new line to leave a gap\n",
    "        \n",
    "Remainder = num_1 % num_2 # calculate the remaider of num_1/num_2\n",
    "print(\"Remainder:\", Remainder) # print out the remainder\n",
    "\n",
    "# Question: get 2 numbers from the user. Divide the 1st number by the 2nd number \n",
    "## and display the quotent and remainder separately on 2 lines"
   ]
  },
  {
   "cell_type": "code",
   "execution_count": 2,
   "metadata": {},
   "outputs": [
    {
     "name": "stdout",
     "output_type": "stream",
     "text": [
      "Enter the principle amount: 800\n",
      "Enter the time(years): 6\n",
      "Enter the rate: 3\n",
      "The simple interest is: 144.0\n"
     ]
    }
   ],
   "source": [
    "principle = float(input(\"Enter the principle amount: \")) # ask user to enter the principle amount\n",
    "time = int(input(\"Enter the time(years): \")) # ask user to enter the number of years\n",
    "rate = float(input(\"Enter the rate: \")) # ask user to enter the interest reate\n",
    "\n",
    "simple_int = (principle * time * rate) / 100 # calculate the simple interest as a percentage\n",
    "\n",
    "print(\"The simple interest is:\",simple_int) # print out the simple interest earned\n",
    "\n",
    "# Question: Writ a program that calculates interest earned using the simple interest calculation"
   ]
  },
  {
   "cell_type": "code",
   "execution_count": 6,
   "metadata": {},
   "outputs": [
    {
     "name": "stdout",
     "output_type": "stream",
     "text": [
      "Give the height in centimeters: 168\n",
      "The length in inches:  66.19\n",
      "The length is feet:  5.44\n"
     ]
    }
   ],
   "source": [
    "cm = int(input(\"Give the height in centimeters: \")) # ask user to enter their height in cm\n",
    "inches = 0.394 * cm # convert cm to inches\n",
    "feet = 0.0324 * cm # convert cm to feet\n",
    "\n",
    "print (\"The length in inches: \", round(inches, 2)) # print the height in inches, rounded to 2 decmal places\n",
    "print (\"The length in feet: \", round(feet, 2)) # print the height in feed, rounded to 2 decimal places\n",
    "\n",
    "# Question: Write a program that asks for user's height in cm and converts the height into inches and feet\n",
    "# print each on seperate lines, rounded to 2 decimal places"
   ]
  },
  {
   "cell_type": "code",
   "execution_count": 7,
   "metadata": {},
   "outputs": [
    {
     "name": "stdout",
     "output_type": "stream",
     "text": [
      "List of cars before the swap:  ['Toyota Camry', 'Honda Accord', 'Honda Civic', 'Toyota Corolla']\n",
      "List of cars after the swap:  ['Honda Civic', 'Honda Accord', 'Toyota Camry', 'Toyota Corolla']\n"
     ]
    }
   ],
   "source": [
    "cars_list = [\"Toyota Camry\", \"Honda Accord\", \"Honda Civic\", \"Toyota Corolla\"]\n",
    "\n",
    "print(\"List of cars before the swap: \", cars_list) # print the original list of cars_list\n",
    "\n",
    "cars_list_temp = cars_list[0] # assign the 1st item in cars_list to temp\n",
    "\n",
    "cars_list[0] = cars_list[2] # assign item number 3 in the list to the 1st position\n",
    "\n",
    "cars_list[2] = cars_list_temp # assign the item in temp to the 3rd position\n",
    "\n",
    "print(\"List of cars after the swap: \", cars_list) # print the list\n",
    "\n",
    "# Qurestion: write a program that swaps the 1st and 3rd items in a list"
   ]
  },
  {
   "cell_type": "code",
   "execution_count": 8,
   "metadata": {},
   "outputs": [
    {
     "name": "stdout",
     "output_type": "stream",
     "text": [
      "list of cars before the swap:  ['Toyota Camry', 'Honda Accord', 'Honda Civic', 'Toyota Corolla']\n",
      "list of cars after  the swap:  ['Toyota Camry', 'Honda Civic', 'Honda Accord', 'Toyota Corolla']\n"
     ]
    }
   ],
   "source": [
    "cars_list = [\"Toyota Camry\", \"Honda Accord\", \"Honda Civic\", \"Toyota Corolla\"]\n",
    "\n",
    "print(\"list of cars before the swap: \", cars_list) # print out the original list\n",
    "\n",
    "car1 = 1 # assign 1 to the car1 variable\n",
    "car2 = 2 # assign 2 to the car2 variable\n",
    "\n",
    "cars_list[car1], cars_list[car2] = cars_list[car2], cars_list[car1] # swap the the 2nd and 3rd items in the list\n",
    "\n",
    "print(\"list of cars after  the swap: \", cars_list) # pirnt the new list\n",
    "\n",
    "#Question: swap around the values in the 2nd and 3rd position of a list "
   ]
  },
  {
   "cell_type": "code",
   "execution_count": 1,
   "metadata": {},
   "outputs": [
    {
     "name": "stdout",
     "output_type": "stream",
     "text": [
      "Student list:  ['Sofia', 'Ella', 'Samuel', 'Ella', 'Aiden', 'Sofia']\n",
      "Number of Students:  6\n",
      "\n",
      "New student list:  ['Sofia', 'Aiden', 'Ella', 'Samuel']\n",
      "Length of modified students list:  4\n",
      "There are 2 duplicate elements\n"
     ]
    }
   ],
   "source": [
    "list_student = [\"Sofia\", \"Ella\", \"Samuel\", \"Ella\", \"Aiden\", \"Sofia\"]\n",
    "\n",
    "print(\"Student list: \", list_student) # print the original list\n",
    "\n",
    "print(\"Number of Students: \", len(list_student)) # print the length of the string\n",
    "\n",
    "student_set = set(list_student) # convert the list into a set to remove duplicates\n",
    "\n",
    "print(\"\\nNew student list: \", list(student_set)) # start a new line. print the values in set as a list\n",
    "\n",
    "print(\"Length of modified students list: \", len(student_set)) # print the length of the set\n",
    "\n",
    "print(\"There are %s duplicate elements\"%(len(list_student) - len(student_set))) # print the number of items\n",
    "## duplicated in the original list using %s notation\n",
    "\n",
    "# Question: write a program that de-duplicates a list of items and prints out the differe in the\n",
    "## lenght of the lists"
   ]
  },
  {
   "cell_type": "code",
   "execution_count": 5,
   "metadata": {},
   "outputs": [
    {
     "name": "stdout",
     "output_type": "stream",
     "text": [
      "There are 2 duplicate elements\n"
     ]
    }
   ],
   "source": [
    "list_str = [\"Sofia\",\"Ella\",\"Samuel\",\"Ella\",\"Aiden\",\"Sofia\"]\n",
    "\n",
    "len_list_str = len(list_str) # caclulate the length of a list\n",
    "\n",
    "len_set_str = len(set(list_str)) # cast the list as a set and calculate it's length and cast it back to a list\n",
    "\n",
    "if len_list_str == len_set_str: # check if the two strings are equal\n",
    "    \n",
    "    print(\"There are no duplicate elements\")\n",
    "    \n",
    "else:\n",
    "    \n",
    "    print(\"There are {} duplicate elements\".format(len_list_str - len_set_str)) # print the difference uisng\n",
    "    ## .format method"
   ]
  },
  {
   "cell_type": "code",
   "execution_count": 11,
   "metadata": {},
   "outputs": [
    {
     "name": "stdout",
     "output_type": "stream",
     "text": [
      "The number stored in num_value is : 50\n",
      "The number is an even number\n"
     ]
    }
   ],
   "source": [
    "num_value = 50\n",
    "print(\"The number stored in num_value is :\", num_value) # print the number stored in num_value\n",
    "\n",
    "if not num_value % 2 == 0: # check if the number in num_value is not divisible by 0 and print whether the number\n",
    "    ## is odd or even\n",
    "    print(\"The number is an odd number\")\n",
    "else:\n",
    "    print(\"The number is an even number\")\n",
    "    \n",
    "# Question: Write a program that checks if a number is odd or even"
   ]
  },
  {
   "cell_type": "code",
   "execution_count": 12,
   "metadata": {},
   "outputs": [
    {
     "name": "stdout",
     "output_type": "stream",
     "text": [
      "Enter some comma separated numbers : 12,23,45,56\n",
      "List :  ['12', '23', '45', '56']\n",
      "Tuple :  ('12', '23', '45', '56')\n"
     ]
    }
   ],
   "source": [
    "values = input(\"Enter some comma separated numbers : \") # ask the user to enter comma seperated numbers and assign\n",
    "## in values\n",
    "\n",
    "list_value = values.split(\",\") # split the user input into a list\n",
    "tuple_value = tuple(list_value) # convert the list into a tuple\n",
    "\n",
    "print(\"List : \", list_value) # print the list of values\n",
    "print(\"Tuple : \", tuple_value) # print the tuple of values\n",
    "\n",
    "# Question: Write a program that takes in a list of comma seperated values and converts it into a tuple"
   ]
  },
  {
   "cell_type": "code",
   "execution_count": 13,
   "metadata": {},
   "outputs": [
    {
     "name": "stdout",
     "output_type": "stream",
     "text": [
      "Enter some comma separated words : Kiwi,Apple,Banana\n",
      "['Apple', 'Banana', 'Kiwi']\n"
     ]
    }
   ],
   "source": [
    "list_words = input(\"Enter some comma separated words : \") # ask the user to neter comma sepeated words\n",
    "\n",
    "words = list_words.split(\",\") # split the input words to create a list\n",
    "\n",
    "new_list_words = sorted(words) # sort the list\n",
    "\n",
    "print (new_list_words) # print the sorted list\n",
    "\n",
    "# Question: write a program that takes in an input of comma seperated values and prints the sorted list of values"
   ]
  },
  {
   "cell_type": "markdown",
   "metadata": {},
   "source": [
    "what lies behind us and what lies before us are tiny matters compared to what lies within us"
   ]
  },
  {
   "cell_type": "code",
   "execution_count": 2,
   "metadata": {},
   "outputs": [
    {
     "name": "stdout",
     "output_type": "stream",
     "text": [
      "Enter some whitespace-separated words : what lies behind us and what lies before us are tiny matters compared to what lies within us\n",
      "and are before behind compared lies matters tiny to us what within\n"
     ]
    }
   ],
   "source": [
    "sentence = input(\"Enter some whitespace-separated words : \") # ask the user to enter a sentence\n",
    "\n",
    "words = sentence.split(\" \") # split the sentence by the spaces to create a list\n",
    "\n",
    "set_of_words = set(words) # convert the list into a set\n",
    "\n",
    "sorted_set_of_words = sorted(set_of_words) # sort the set\n",
    "\n",
    "print(\" \".join(sorted_set_of_words)) # join the sorted set of words by a space\n",
    "\n",
    "# Question: ask the user to enter a sentence and print out the unique words of the input in order"
   ]
  },
  {
   "cell_type": "code",
   "execution_count": 15,
   "metadata": {},
   "outputs": [
    {
     "name": "stdout",
     "output_type": "stream",
     "text": [
      "{1: 1, 2: 4, 3: 9}\n"
     ]
    }
   ],
   "source": [
    "num_dict = dict() # create an empty dictionary\n",
    "\n",
    "num_dict[1] = 1 # assign the value 1 to key 1\n",
    "num_dict[2] = 2 ** 2 # assign the value of 2^2 to key 2\n",
    "num_dict[3] = 3 ** 2 # assign the value of 3^2 to key 3\n",
    "\n",
    "print (num_dict) # print out the dictionary\n",
    "\n",
    "# Question: write a program that creates a dictionary ove squared values of 1, 2 and 3"
   ]
  },
  {
   "cell_type": "code",
   "execution_count": 3,
   "metadata": {},
   "outputs": [
    {
     "name": "stdout",
     "output_type": "stream",
     "text": [
      "Enter first string: hello\n",
      "Enter second string: python\n",
      "\n",
      "Common letters:  ['h', 'o']\n"
     ]
    }
   ],
   "source": [
    "string_1 = input(\"Enter first string: \") # ask the user for 1st string\n",
    "\n",
    "string_2 = input(\"Enter second string: \") # ask the user for 2nd string\n",
    "\n",
    "set_1 = set(string_1) # convert the 1st string into a set\n",
    "set_2 = set(string_2) # convert the 2ns string into a set\n",
    "\n",
    "common_char = set_1.intersection(set_2) # find the intersection of the 2 sets\n",
    "\n",
    "print(\"\\nCommon letters: \", list(common_char)) # print ou the common values on a new line\n",
    "\n",
    "# Question: write a program that takes in 2 user input strings and returns the unique characters in the strings\n",
    "## that are common to both strings"
   ]
  },
  {
   "cell_type": "code",
   "execution_count": 26,
   "metadata": {},
   "outputs": [
    {
     "name": "stdout",
     "output_type": "stream",
     "text": [
      "Numbers before slicing: [10, 11, 12, 13, 14, 15, 16, 17, 18, 19, 20, 21]\n",
      "Length of numbers before slicing:  12\n",
      "\n",
      "First half: [10, 11, 12, 13, 14, 15]\n",
      "Second half: [16, 17, 18, 19, 20, 21]\n",
      "\n",
      "NOTE: Type of x is <class 'str'>:\n"
     ]
    }
   ],
   "source": [
    "list_num = [10, 11, 12, 13, 14, 15, 16, 17, 18, 19, 20, 21]\n",
    "\n",
    "len_of_list = len(list_num) # calculate and assign the length of list_num\n",
    "\n",
    "print(\"Numbers before slicing: %s\" %list_num) # print out the original list\n",
    "print(\"Length of numbers before slicing: \", len_of_list) # pritn out the length of the string\n",
    "\n",
    "half = int(len_of_list / 2) # calculate the middle index of the string\n",
    "\n",
    "list_num1 = list_num[:half] # assign the 1st half to list_num1\n",
    "list_num2 = list_num[half:] # assign the 2nd half to list_num2\n",
    "\n",
    "print(\"\\nFirst half: %s\" %list_num1) # create a new line and pritn the 1st half of the string\n",
    "print(\"Second half: %s\" %list_num2) # print the 2nd half of the string\n",
    "\n",
    "# Question: Write a program that splits a list into half and prints the 1st and and 2nd half seperately\n",
    "## use %s notation to insert the list into description\n",
    "\n",
    "x = (\"Numbers before slicing: %s\" %list_num)\n",
    "print(\"\\nNOTE: Type of x is %s:\" %type(x))\n"
   ]
  },
  {
   "cell_type": "code",
   "execution_count": 19,
   "metadata": {},
   "outputs": [
    {
     "name": "stdout",
     "output_type": "stream",
     "text": [
      "Enter a number: -12\n",
      "Negative number\n"
     ]
    }
   ],
   "source": [
    "num = float(input(\"Enter a number: \")) # ask user to imput a number. convert input to float\n",
    "\n",
    "if num >= 0: # check >= 0 first\n",
    "    \n",
    "    if num == 0: # if 0, print 0\n",
    "        print(\"Zero\")\n",
    "        \n",
    "    else:\n",
    "        print(\"Positive number\") # else if positive and >0, print positive\n",
    "        \n",
    "else:\n",
    "    \n",
    "    print(\"Negative number\") # in <0 print negative\n",
    "    \n",
    "# Question: Write a program that takes a user input and prits value of the input as either 0, positive or negative"
   ]
  },
  {
   "cell_type": "markdown",
   "metadata": {},
   "source": [
    "run this cell twice first with var = 3\n",
    "\n",
    "the var = 1+2j"
   ]
  },
  {
   "cell_type": "code",
   "execution_count": 12,
   "metadata": {},
   "outputs": [
    {
     "name": "stdout",
     "output_type": "stream",
     "text": [
      "Type of the variable is Integer\n"
     ]
    }
   ],
   "source": [
    "var = 3 # set var to 3\n",
    "\n",
    "if (type(var) == int): # check the tupe of the variable\n",
    "    print(\"Type of the variable is Integer\")\n",
    "    \n",
    "elif (type(var) == float):\n",
    "    print(\"Type of the variable is Float\")\n",
    "    \n",
    "elif (type(var) == complex):\n",
    "    print(\"Type of the variable is Complex\")\n",
    "\n",
    "else:\n",
    "    print(\"Type of the variable is Unknown\")\n",
    "    \n",
    "# Question: Write a program that checks the tupe of a variable and print the type of the variable\n",
    "## (int, float, complex or other if unknown)"
   ]
  },
  {
   "cell_type": "code",
   "execution_count": 22,
   "metadata": {},
   "outputs": [
    {
     "name": "stdout",
     "output_type": "stream",
     "text": [
      "Enter a number: 59\n",
      "59 is Odd\n"
     ]
    }
   ],
   "source": [
    "num = int(input(\"Enter a number: \")) # ask user to input a number\n",
    "\n",
    "if (num % 2) == 0: # check if number is even \n",
    "    \n",
    "    print(\"%d is Even\" % num) # print even\n",
    "    \n",
    "else:\n",
    "    \n",
    "    print(\"%d is Odd\" % num) # else, print odd\n",
    "    \n",
    "# Qrite a prgram that takes a user input and checks if it is odd or even"
   ]
  },
  {
   "cell_type": "code",
   "execution_count": 24,
   "metadata": {},
   "outputs": [
    {
     "name": "stdout",
     "output_type": "stream",
     "text": [
      "Enter the first number: 12\n",
      "Operator: /\n",
      "Enter the second number: 4\n",
      "Division:  3.0\n"
     ]
    }
   ],
   "source": [
    "num1 = float(input(\"Enter the first number: \")) # ask user to input 1st number\n",
    "\n",
    "operator = input(\"Operator: \") # ask user to input an operator\n",
    "\n",
    "num2 = float(input(\"Enter the second number: \")) # ask user to input a 2nd number\n",
    "\n",
    "if operator == \"+\": # if operator is +\n",
    "    print(\"Addition: \", num1 + num2) # add the 2 numbers\n",
    "\n",
    "elif operator == \"-\": # if operator is -\n",
    "    print(\"Subtraction: \", num1 - num2) # subtract 2nd number from 1st number\n",
    "\n",
    "elif operator == \"*\": # if operator is *\n",
    "    print(\"Multiplication: \", num1 * num2) # multiply the 2 numbers together\n",
    "\n",
    "elif operator == \"/\": # if operator is /\n",
    "    print(\"Division: \", num1 / num2) # divide 1st number by the second\n",
    "    \n",
    "else:\n",
    "    print(\"This is not a valid operator\") # else print invalid number\n",
    "    \n",
    "# Question: write a program that takes in 2 numbers (1st number and 2nd number) and a mathematical operator\n",
    "## prit the resulting value based on the the mathematical operator"
   ]
  },
  {
   "cell_type": "code",
   "execution_count": 26,
   "metadata": {},
   "outputs": [
    {
     "name": "stdout",
     "output_type": "stream",
     "text": [
      "Enter a number: 35\n",
      "This number is divisible by both 5 and 7\n"
     ]
    }
   ],
   "source": [
    "num_1 = int(input(\"Enter a number: \")) # ask user to input a number\n",
    "\n",
    "if num_1 % 5 == 0 and num_1 % 7 == 0: # check if number is evenly divisible by both 5 and 7\n",
    "    print(\"This number is divisible by both 5 and 7\")\n",
    "    \n",
    "elif num_1 % 5 == 0: # then check if the number is evenly divisable by 5\n",
    "    print(\"This number is divisible by 5\")\n",
    "    \n",
    "elif num_1 % 7 == 0: # then check if the number is evenly divisable by 7\n",
    "    print(\"This number is divisible by 7\")\n",
    "    \n",
    "else: # elise print that the number is not divisible by 5 or 7\n",
    "    print(\"This number is neither divisible by 5 nor 7\")\n",
    "    \n",
    "# Question: take in a user input and check that the number is divisible by 5, 7 or both 5 and 7"
   ]
  },
  {
   "cell_type": "code",
   "execution_count": 28,
   "metadata": {},
   "outputs": [
    {
     "name": "stdout",
     "output_type": "stream",
     "text": [
      "Enter a number: 13000\n",
      "This bike is very expensive\n"
     ]
    }
   ],
   "source": [
    "bike_price = int(input('Enter a number: ')) # ask the user to enter an number\n",
    "\n",
    "if bike_price < 4000: # check if the input is < 4000\n",
    "    \n",
    "    print(\"It's a cheap bike\") # print the bike is cheap\n",
    "    \n",
    "elif bike_price >= 4000 and bike_price < 7000: # check if the bike is equal or greater than 4000 and less than 7000\n",
    "    print(\"It's a moderately priced bike\") # print the bike is boderately priced\n",
    "    \n",
    "elif bike_price >= 7000 and bike_price < 12000: # check if the bike is equal or greater than 7000 and less than 12000\n",
    "    print(\"It's an expensive bike\") # print the bike is expensive\n",
    "    \n",
    "else:\n",
    "    print(\"This bike is very expensive\") # else, prith the bike is very expensive"
   ]
  },
  {
   "cell_type": "code",
   "execution_count": 29,
   "metadata": {},
   "outputs": [
    {
     "name": "stdout",
     "output_type": "stream",
     "text": [
      "Enter dog's age in human years: 3\n",
      "The dog's age in dog years is 25\n"
     ]
    }
   ],
   "source": [
    "human_age = int(input(\"Enter dog's age in human years: \")) # ask for dog's age in human years\n",
    "\n",
    "if human_age < 0: # check that he number is greater than or equal to zeor\n",
    "    print(\"Age must be a positive number.\")\n",
    "    exit()\n",
    "    \n",
    "if human_age <= 2: # if age in less than or equal to 2\n",
    "    dog_age = human_age * 10.5 # multiply input by 10.5\n",
    "    \n",
    "else:\n",
    "    dog_age = 21 + (human_age - 2)*4 # else, caluclate the age using the formula\n",
    "\n",
    "print(\"The dog's age in dog years is\", dog_age) # prith out the age in dog years\n",
    "\n",
    "# Question: Write a program that takes a dog's age in human uears and converts it to age in dog years."
   ]
  },
  {
   "cell_type": "code",
   "execution_count": 32,
   "metadata": {},
   "outputs": [
    {
     "name": "stdout",
     "output_type": "stream",
     "text": [
      "Enter a letter of the alphabet: y\n",
      "Y is ambiguous. It depends where it is used\n"
     ]
    }
   ],
   "source": [
    "letter = input(\"Enter a letter of the alphabet: \") # ask the user to input a letter\n",
    "letter = letter.lower() # save letter to lower case\n",
    "\n",
    "if letter in ('a', 'e', 'i', 'o', 'u'): # check if input is a a vowel\n",
    "    \n",
    "    print(\"%s is a vowel.\" % letter) # print letter is a vowel\n",
    "    \n",
    "elif letter == 'y': # check if input is y\n",
    "    print(\"Y is ambiguous. It depends where it is used\") # print special condition applies\n",
    "    \n",
    "else:\n",
    "    print(\"%s is a consonant.\" % letter) # else print that the input is a consonant\n",
    "    \n",
    "# Question: Write a program that checks if an input is a vowel or a consonant"
   ]
  },
  {
   "cell_type": "code",
   "execution_count": 34,
   "metadata": {},
   "outputs": [
    {
     "name": "stdout",
     "output_type": "stream",
     "text": [
      "Enter the name of the Month: April\n",
      "No. of days: 30 days\n"
     ]
    }
   ],
   "source": [
    "month_name = input(\"Enter the name of the Month: \") # ask the user to input the a name of a month\n",
    "\n",
    "if month_name == \"February\": # if Feb\n",
    "    print(\"No. of days: 28/29 days\") # print the days in the month\n",
    "    \n",
    "elif month_name in (\"April\", \"June\", \"September\", \"November\"): # if month has 30 days\n",
    "    print(\"No. of days: 30 days\") # print the dats of the month\n",
    "    \n",
    "elif month_name in (\"January\", \"March\", \"May\", \"July\", \"August\", \"October\", \"December\"): # if month has 31 days\n",
    "    print(\"No. of days: 31 days\") # print the days of the month\n",
    "    \n",
    "else:\n",
    "    print(\"Give a correct month name\") # else ask for a correct month\n",
    "    \n",
    "# Question - write a program that takes in the name of a month and prints out the number of days of the month"
   ]
  },
  {
   "cell_type": "code",
   "execution_count": 35,
   "metadata": {},
   "outputs": [
    {
     "name": "stdout",
     "output_type": "stream",
     "text": [
      "Enter first number: 34\n",
      "Enter second number: 23\n",
      "Enter third number: 45\n",
      "\n",
      "The median is 34.0\n"
     ]
    }
   ],
   "source": [
    "num_1 = float(input(\"Enter first number: \")) # ask user to enter 1st number\n",
    "num_2 = float(input(\"Enter second number: \")) # ask user to enter 2nd number\n",
    "num_3 = float(input(\"Enter third number: \")) # ask user to enter 3rd number\n",
    "\n",
    "if num_1 > num_2: # check if num1 > num2\n",
    "    \n",
    "    if num_1 < num_3: # if it is, then check if num1 is between num2 and num3\n",
    "        median = num_1 # assing num1 to median\n",
    "        \n",
    "    elif num_2 > num_3: # num2 is <= num 1, so check if num2 is greater than num3\n",
    "        ## if ture, num3 is less than num2, and num2 < num1\n",
    "        median = num_2 # assign num 2 to mediam\n",
    "        \n",
    "    else:\n",
    "        median = num_3 # else, num 3 is median\n",
    "        \n",
    "else: # num1 <= num2\n",
    "    if num_1 > num_3: # then check if num1 > num3\n",
    "        median = num_1 # assign num2 to median\n",
    "        \n",
    "    elif num_2 < num_3: # if num3 is greater than num1\n",
    "        median = num_2 # assign num2 to median\n",
    "        \n",
    "    else:\n",
    "        median = num_3 # else assign num3 to median\n",
    "\n",
    "print(\"\\nThe median is\", median) # print out the median\n",
    "\n",
    "# Question: write a program that takes in 3 numbers and calculates the median"
   ]
  },
  {
   "cell_type": "code",
   "execution_count": 38,
   "metadata": {},
   "outputs": [
    {
     "name": "stdout",
     "output_type": "stream",
     "text": [
      "a: 12\n",
      "b: 12\n",
      "c: 12\n",
      "Equilateral triangle\n"
     ]
    }
   ],
   "source": [
    "a = int(input(\"a: \")) # take in a numeric value for a as an int\n",
    "b = int(input(\"b: \")) # take in a numeric value for b as an int\n",
    "c = int(input(\"c: \")) # take in a numeric value for c as an int\n",
    "\n",
    "if a == b == c: # if all values are the same\n",
    "    print(\"Equilateral triangle\") # print Equilateral\n",
    "    \n",
    "elif a == b or b == c or c == a: # if 2 of the values are the same\n",
    "    print(\"Isosceles triangle\") # print Isoscles\n",
    "    \n",
    "else:\n",
    "    print(\"\\nScalene triangle\") # else print scalene on a new line\n",
    "    \n",
    "# Question: Write a program that takes in the dimensions of a triangle and determines if it is \n",
    "## Equilateral, Isosceles or Scalene"
   ]
  },
  {
   "cell_type": "code",
   "execution_count": 40,
   "metadata": {},
   "outputs": [
    {
     "name": "stdout",
     "output_type": "stream",
     "text": [
      "Enter the string: madam\n",
      "The string is a palindrome\n"
     ]
    }
   ],
   "source": [
    "str_value = input(\"Enter the string: \") # ask user for for a string\n",
    "\n",
    "reversed_str = str_value[::-1] # reverse the string\n",
    "\n",
    "if(str_value == reversed_str): # if reverse == string\n",
    "      print(\"The string is a palindrome\") # print palindrome\n",
    "        \n",
    "else:\n",
    "      print(\"The string is not a palindrome\") # else, print not a palindrome\n",
    "        \n",
    "# Question: Write a program to check if a string of characters is a palindrome or not"
   ]
  },
  {
   "cell_type": "code",
   "execution_count": 42,
   "metadata": {},
   "outputs": [
    {
     "name": "stdout",
     "output_type": "stream",
     "text": [
      "How many days are there in a leap year? 366\n",
      "You entered: 366\n",
      "You have cleared the first level.\n",
      "\n",
      "Which month has an extra day in a leap year?february\n",
      "You have cleared the test.\n"
     ]
    }
   ],
   "source": [
    "ans = int(input(\"How many days are there in a leap year? \")) # ask user to input the number of days in a leap year\n",
    "print(\"You entered:\", ans) # print user input\n",
    "    \n",
    "if ans == 366 : # if anser is correct\n",
    "    print(\"You have cleared the first level.\") # clear 1st level\n",
    "    \n",
    "    ans = input(\"\\nWhich month has an extra day in a leap year?\").lower() # ask user for the month with the extra day\n",
    "    if ans == \"february\" : # if input is correct\n",
    "        \n",
    "        print(\"You have cleared the test.\") # pass the test\n",
    "        \n",
    "    else : # if 2nd anser is wrong\n",
    "        \n",
    "        print(\"You have failed the test.\") # failed test\n",
    "        \n",
    "else : # if 1st answer is wrong \n",
    "    print(\"Your answer is wrong, please try again.\") # failed test. Try again\n",
    "    \n",
    "# Question: write a program that asks the user for the number of days in a leap uear, if the answer to 1st question\n",
    "## is correct, ask for the month with the extra day in the leap year."
   ]
  },
  {
   "cell_type": "code",
   "execution_count": 43,
   "metadata": {},
   "outputs": [
    {
     "name": "stdout",
     "output_type": "stream",
     "text": [
      "Enter a score: 75\n",
      "C grade\n"
     ]
    }
   ],
   "source": [
    "score = int(input(\"Enter a score: \")) # take a user input for the score\n",
    "\n",
    "if score >= 90:\n",
    "    print(\"A grade\")\n",
    "\n",
    "elif score >=80:\n",
    "    print(\"B grade\")\n",
    "\n",
    "elif score >=70:\n",
    "    print(\"C grade\")\n",
    "\n",
    "elif score >= 50:\n",
    "    print(\"D grade\")\n",
    "\n",
    "else:\n",
    "    print(\"Fail\")\n",
    "    \n",
    "# Question: write a program that takes in a school grade score and converts it to the alphabetical grade (A to Fail)"
   ]
  },
  {
   "cell_type": "code",
   "execution_count": 1,
   "metadata": {},
   "outputs": [
    {
     "name": "stdout",
     "output_type": "stream",
     "text": [
      "Enter annual salary: 40000\n",
      "Enter years of service: 8\n",
      "Bonus is:  2000.0\n"
     ]
    }
   ],
   "source": [
    "salary = int(input(\"Enter annual salary: \")) # ask user for annual salary\n",
    "\n",
    "years_service = int(input(\"Enter years of service: \")) # ask user for years of service\n",
    "\n",
    "if years_service >= 10: # if greater than or equal to 10 years of service\n",
    "    print (\"Bonus is: \", .15 * salary) # calculate and print out the bonus\n",
    "\n",
    "elif years_service >= 5 and years_service < 10: # if between 5 and 10 years\n",
    "    print (\"Bonus is: \", .05 * salary) # calculate and print out bonus\n",
    "    \n",
    "else:\n",
    "    print (\"No bonus\") # esle no bonus\n",
    "    \n",
    "# Question: write a program that calculates a bonus based on the number of years employeed"
   ]
  },
  {
   "cell_type": "code",
   "execution_count": null,
   "metadata": {},
   "outputs": [],
   "source": []
  }
 ],
 "metadata": {
  "kernelspec": {
   "display_name": "Python 3",
   "language": "python",
   "name": "python3"
  },
  "language_info": {
   "codemirror_mode": {
    "name": "ipython",
    "version": 3
   },
   "file_extension": ".py",
   "mimetype": "text/x-python",
   "name": "python",
   "nbconvert_exporter": "python",
   "pygments_lexer": "ipython3",
   "version": "3.7.3"
  }
 },
 "nbformat": 4,
 "nbformat_minor": 2
}
