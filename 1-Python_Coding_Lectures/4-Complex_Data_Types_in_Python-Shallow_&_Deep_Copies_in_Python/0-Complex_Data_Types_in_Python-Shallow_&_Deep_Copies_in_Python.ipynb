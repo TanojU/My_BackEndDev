{
 "cells": [
  {
   "cell_type": "markdown",
   "metadata": {},
   "source": [
    "# 01_StringCopy"
   ]
  },
  {
   "cell_type": "code",
   "execution_count": 1,
   "metadata": {},
   "outputs": [
    {
     "data": {
      "text/plain": [
       "'Python'"
      ]
     },
     "execution_count": 1,
     "metadata": {},
     "output_type": "execute_result"
    }
   ],
   "source": [
    "old_str = \"Python\"\n",
    "\n",
    "old_str"
   ]
  },
  {
   "cell_type": "code",
   "execution_count": 2,
   "metadata": {},
   "outputs": [],
   "source": [
    "new_str = old_str"
   ]
  },
  {
   "cell_type": "code",
   "execution_count": 3,
   "metadata": {},
   "outputs": [
    {
     "name": "stdout",
     "output_type": "stream",
     "text": [
      "Python\n",
      "Python\n"
     ]
    }
   ],
   "source": [
    "print(old_str)\n",
    "print(new_str)"
   ]
  },
  {
   "cell_type": "code",
   "execution_count": 4,
   "metadata": {},
   "outputs": [
    {
     "data": {
      "text/plain": [
       "'t'"
      ]
     },
     "execution_count": 4,
     "metadata": {},
     "output_type": "execute_result"
    }
   ],
   "source": [
    "new_str[2]"
   ]
  },
  {
   "cell_type": "code",
   "execution_count": 5,
   "metadata": {},
   "outputs": [
    {
     "ename": "TypeError",
     "evalue": "'str' object does not support item assignment",
     "output_type": "error",
     "traceback": [
      "\u001b[0;31m---------------------------------------------------------------------------\u001b[0m",
      "\u001b[0;31mTypeError\u001b[0m                                 Traceback (most recent call last)",
      "\u001b[0;32m<ipython-input-5-b8e09a30ead1>\u001b[0m in \u001b[0;36m<module>\u001b[0;34m\u001b[0m\n\u001b[0;32m----> 1\u001b[0;31m \u001b[0mnew_str\u001b[0m\u001b[0;34m[\u001b[0m\u001b[0;36m2\u001b[0m\u001b[0;34m]\u001b[0m \u001b[0;34m=\u001b[0m \u001b[0;34m'T'\u001b[0m\u001b[0;34m\u001b[0m\u001b[0;34m\u001b[0m\u001b[0m\n\u001b[0m",
      "\u001b[0;31mTypeError\u001b[0m: 'str' object does not support item assignment"
     ]
    }
   ],
   "source": [
    "new_str[2] = 'T'"
   ]
  },
  {
   "cell_type": "code",
   "execution_count": 6,
   "metadata": {},
   "outputs": [],
   "source": [
    "import copy"
   ]
  },
  {
   "cell_type": "code",
   "execution_count": 7,
   "metadata": {},
   "outputs": [
    {
     "data": {
      "text/plain": [
       "'Will'"
      ]
     },
     "execution_count": 7,
     "metadata": {},
     "output_type": "execute_result"
    }
   ],
   "source": [
    "first_str = 'Will'\n",
    "\n",
    "first_str"
   ]
  },
  {
   "cell_type": "code",
   "execution_count": 8,
   "metadata": {},
   "outputs": [
    {
     "name": "stdout",
     "output_type": "stream",
     "text": [
      "First string:  Will\n",
      "Second string:  Will\n"
     ]
    }
   ],
   "source": [
    "second_str = copy.copy(first_str)\n",
    "\n",
    "print(\"First string: \", first_str)\n",
    "print(\"Second string: \", second_str)"
   ]
  },
  {
   "cell_type": "code",
   "execution_count": 9,
   "metadata": {},
   "outputs": [
    {
     "name": "stdout",
     "output_type": "stream",
     "text": [
      "First string:  Will\n",
      "Second string:  Smith\n"
     ]
    }
   ],
   "source": [
    "second_str = 'Smith'\n",
    "\n",
    "print(\"First string: \", first_str)\n",
    "print(\"Second string: \", second_str)"
   ]
  },
  {
   "cell_type": "code",
   "execution_count": 11,
   "metadata": {},
   "outputs": [
    {
     "data": {
      "text/plain": [
       "'Jonny'"
      ]
     },
     "execution_count": 11,
     "metadata": {},
     "output_type": "execute_result"
    }
   ],
   "source": [
    "first_str = 'Jonny'\n",
    "\n",
    "first_str"
   ]
  },
  {
   "cell_type": "code",
   "execution_count": 12,
   "metadata": {},
   "outputs": [
    {
     "name": "stdout",
     "output_type": "stream",
     "text": [
      "First string:  Jonny\n",
      "Second string:  Jonny\n"
     ]
    }
   ],
   "source": [
    "second_str = copy.deepcopy(first_str)\n",
    "\n",
    "print(\"First string: \", first_str)\n",
    "print(\"Second string: \", second_str)"
   ]
  },
  {
   "cell_type": "code",
   "execution_count": 13,
   "metadata": {},
   "outputs": [
    {
     "name": "stdout",
     "output_type": "stream",
     "text": [
      "First string:  Jonny\n",
      "Second string:  Depp\n"
     ]
    }
   ],
   "source": [
    "second_str = 'Depp'\n",
    "\n",
    "print(\"First string: \", first_str)\n",
    "print(\"Second string: \", second_str)"
   ]
  },
  {
   "cell_type": "markdown",
   "metadata": {},
   "source": [
    "# 02_ListShallowCopy"
   ]
  },
  {
   "cell_type": "code",
   "execution_count": 14,
   "metadata": {},
   "outputs": [
    {
     "data": {
      "text/plain": [
       "['Sara', 'David', 'Warner', 'Sandy']"
      ]
     },
     "execution_count": 14,
     "metadata": {},
     "output_type": "execute_result"
    }
   ],
   "source": [
    "names = [\"Sara\", \"David\", \"Warner\", \"Sandy\"]\n",
    "\n",
    "names"
   ]
  },
  {
   "cell_type": "code",
   "execution_count": 15,
   "metadata": {},
   "outputs": [
    {
     "name": "stdout",
     "output_type": "stream",
     "text": [
      "Original: ['Sara', 'David', 'Warner', 'Sandy']\n",
      "Copy: ['Sara', 'David', 'Warner', 'Sandy']\n"
     ]
    }
   ],
   "source": [
    "new_names = names # shallow copy\n",
    "\n",
    "print(\"Original:\", names)\n",
    "print(\"Copy:\", new_names)"
   ]
  },
  {
   "cell_type": "code",
   "execution_count": 19,
   "metadata": {},
   "outputs": [
    {
     "data": {
      "text/plain": [
       "'David'"
      ]
     },
     "execution_count": 19,
     "metadata": {},
     "output_type": "execute_result"
    }
   ],
   "source": [
    "names[1]"
   ]
  },
  {
   "cell_type": "code",
   "execution_count": 21,
   "metadata": {},
   "outputs": [
    {
     "name": "stdout",
     "output_type": "stream",
     "text": [
      "Original:  ['Sara', 'Ridley', 'Warner', 'Sandy']\n",
      "Modified:  ['Sara', 'Ridley', 'Warner', 'Sandy']\n"
     ]
    }
   ],
   "source": [
    "new_names[1] = 'Ridley'\n",
    "\n",
    "print(\"Original: \", names)\n",
    "print(\"Modified: \", new_names)"
   ]
  },
  {
   "cell_type": "code",
   "execution_count": 22,
   "metadata": {},
   "outputs": [],
   "source": [
    "import copy"
   ]
  },
  {
   "cell_type": "code",
   "execution_count": 23,
   "metadata": {},
   "outputs": [
    {
     "data": {
      "text/plain": [
       "['hackerearth', 'google', 'Facebook']"
      ]
     },
     "execution_count": 23,
     "metadata": {},
     "output_type": "execute_result"
    }
   ],
   "source": [
    "companies = [\"hackerearth\", \"google\", \"Facebook\"]\n",
    "\n",
    "companies"
   ]
  },
  {
   "cell_type": "code",
   "execution_count": 24,
   "metadata": {},
   "outputs": [
    {
     "name": "stdout",
     "output_type": "stream",
     "text": [
      "Original:  ['hackerearth', 'google', 'Facebook']\n",
      "Modified:  ['hackerearth', 'google', 'Facebook']\n"
     ]
    }
   ],
   "source": [
    "new_companies = copy.copy(companies) # creates deep copy of outer lists\n",
    "\n",
    "print('Original: ', companies)\n",
    "print('Modified: ', new_companies)"
   ]
  },
  {
   "cell_type": "code",
   "execution_count": 25,
   "metadata": {},
   "outputs": [
    {
     "data": {
      "text/plain": [
       "'google'"
      ]
     },
     "execution_count": 25,
     "metadata": {},
     "output_type": "execute_result"
    }
   ],
   "source": [
    "new_companies[1]"
   ]
  },
  {
   "cell_type": "code",
   "execution_count": 26,
   "metadata": {},
   "outputs": [
    {
     "name": "stdout",
     "output_type": "stream",
     "text": [
      "Original:  ['hackerearth', 'google', 'Facebook']\n",
      "Modified:  ['hackerearth', 'microsoft', 'Facebook']\n"
     ]
    }
   ],
   "source": [
    "new_companies[1] = 'microsoft'\n",
    "\n",
    "print('Original: ', companies)\n",
    "print('Modified: ', new_companies)"
   ]
  },
  {
   "cell_type": "code",
   "execution_count": 27,
   "metadata": {},
   "outputs": [
    {
     "data": {
      "text/plain": [
       "[[1, 2, 3], [4, 5, 6], [7, 8, 9]]"
      ]
     },
     "execution_count": 27,
     "metadata": {},
     "output_type": "execute_result"
    }
   ],
   "source": [
    "old_list = [[1, 2, 3], [4, 5, 6], [7, 8, 9]]\n",
    "\n",
    "old_list"
   ]
  },
  {
   "cell_type": "code",
   "execution_count": 28,
   "metadata": {},
   "outputs": [
    {
     "name": "stdout",
     "output_type": "stream",
     "text": [
      "Old list:  [[1, 2, 3], [4, 5, 6], [7, 8, 9]]\n",
      "New list:  [[1, 2, 3], [4, 5, 6], [7, 8, 9]]\n"
     ]
    }
   ],
   "source": [
    "new_list = copy.copy(old_list)\n",
    "\n",
    "print(\"Old list: \", old_list)\n",
    "print(\"New list: \", new_list)"
   ]
  },
  {
   "cell_type": "code",
   "execution_count": 29,
   "metadata": {},
   "outputs": [
    {
     "data": {
      "text/plain": [
       "5"
      ]
     },
     "execution_count": 29,
     "metadata": {},
     "output_type": "execute_result"
    }
   ],
   "source": [
    "old_list[1][1]"
   ]
  },
  {
   "cell_type": "code",
   "execution_count": 30,
   "metadata": {},
   "outputs": [
    {
     "name": "stdout",
     "output_type": "stream",
     "text": [
      "Old list:  [[1, 2, 3], [4, 'Five', 6], [7, 8, 9]]\n",
      "New list:  [[1, 2, 3], [4, 'Five', 6], [7, 8, 9]]\n"
     ]
    }
   ],
   "source": [
    "old_list[1][1] = 'Five' # copy creates a shallow copy of inner lists\n",
    "\n",
    "print(\"Old list: \", old_list)\n",
    "print(\"New list: \", new_list)"
   ]
  },
  {
   "cell_type": "code",
   "execution_count": 31,
   "metadata": {},
   "outputs": [
    {
     "name": "stdout",
     "output_type": "stream",
     "text": [
      "Orifinal:  [[1, 2, 3], [4, 'Five', 6], [7, 8, 9, 'Ten']]\n",
      "Modified:  [[1, 2, 3], [4, 'Five', 6], [7, 8, 9, 'Ten']]\n"
     ]
    }
   ],
   "source": [
    "new_list[2].append('Ten')\n",
    "\n",
    "print(\"Orifinal: \", old_list)\n",
    "print(\"Modified: \", new_list)\n"
   ]
  },
  {
   "cell_type": "code",
   "execution_count": 36,
   "metadata": {},
   "outputs": [
    {
     "name": "stdout",
     "output_type": "stream",
     "text": [
      "Old list:  [[1, 2, 3], [4, 'Five', 6], [7, 8, 9, 'Ten'], [10, 11, 12], [10, 11, 12]]\n",
      "New list:  [[1, 2, 3], [4, 'Five', 6], [7, 8, 9, 'Ten']]\n"
     ]
    }
   ],
   "source": [
    "old_list.append([10, 11, 12])\n",
    "\n",
    "print(\"Old list: \", old_list)\n",
    "print(\"New list: \", new_list)"
   ]
  },
  {
   "cell_type": "markdown",
   "metadata": {},
   "source": [
    "# 03_ListDeepCopy"
   ]
  },
  {
   "cell_type": "code",
   "execution_count": 1,
   "metadata": {},
   "outputs": [
    {
     "data": {
      "text/plain": [
       "['Sara', 'David', 'Warner', 'Sandy']"
      ]
     },
     "execution_count": 1,
     "metadata": {},
     "output_type": "execute_result"
    }
   ],
   "source": [
    "names = [\"Sara\", \"David\", \"Warner\", \"Sandy\"]\n",
    "\n",
    "names"
   ]
  },
  {
   "cell_type": "code",
   "execution_count": 3,
   "metadata": {},
   "outputs": [
    {
     "name": "stdout",
     "output_type": "stream",
     "text": [
      "Original:  ['Sara', 'David', 'Warner', 'Sandy']\n",
      "Modified:  ['Sara', 'David', 'Warner', 'Sandy']\n"
     ]
    }
   ],
   "source": [
    "new_names = names.copy()\n",
    "\n",
    "print(\"Original: \", names)\n",
    "print(\"Modified: \", new_names)"
   ]
  },
  {
   "cell_type": "code",
   "execution_count": 4,
   "metadata": {},
   "outputs": [],
   "source": [
    "import copy"
   ]
  },
  {
   "cell_type": "code",
   "execution_count": 6,
   "metadata": {},
   "outputs": [
    {
     "data": {
      "text/plain": [
       "['hackerearth', 'google', 'facebook']"
      ]
     },
     "execution_count": 6,
     "metadata": {},
     "output_type": "execute_result"
    }
   ],
   "source": [
    "companies = [\"hackerearth\", \"google\", \"facebook\"]\n",
    "\n",
    "companies"
   ]
  },
  {
   "cell_type": "code",
   "execution_count": 8,
   "metadata": {},
   "outputs": [
    {
     "name": "stdout",
     "output_type": "stream",
     "text": [
      "Original:  ['hackerearth', 'google', 'facebook']\n",
      "Modified:  ['hackerearth', 'google', 'facebook']\n"
     ]
    }
   ],
   "source": [
    "new_companies = copy.deepcopy(companies)\n",
    "\n",
    "print(\"Original: \", companies)\n",
    "print(\"Modified: \", new_companies)"
   ]
  },
  {
   "cell_type": "code",
   "execution_count": 9,
   "metadata": {},
   "outputs": [
    {
     "data": {
      "text/plain": [
       "'google'"
      ]
     },
     "execution_count": 9,
     "metadata": {},
     "output_type": "execute_result"
    }
   ],
   "source": [
    "new_companies[1]"
   ]
  },
  {
   "cell_type": "code",
   "execution_count": 17,
   "metadata": {},
   "outputs": [
    {
     "name": "stdout",
     "output_type": "stream",
     "text": [
      "Original:  ['hackerearth', 'google', 'facebook']\n",
      "Modified:  ['skillsoft', 'microsoft', 'facebook']\n"
     ]
    }
   ],
   "source": [
    "new_companies[1] = \"microsoft\"\n",
    "\n",
    "print(\"Original: \", companies)\n",
    "print(\"Modified: \", new_companies)"
   ]
  },
  {
   "cell_type": "code",
   "execution_count": 18,
   "metadata": {},
   "outputs": [
    {
     "data": {
      "text/plain": [
       "[[1, 2, 3], [4, 5, 6], [7, 8, 9]]"
      ]
     },
     "execution_count": 18,
     "metadata": {},
     "output_type": "execute_result"
    }
   ],
   "source": [
    "old_list = [[1, 2, 3], [4, 5, 6], [7, 8, 9]]\n",
    "\n",
    "old_list"
   ]
  },
  {
   "cell_type": "code",
   "execution_count": 19,
   "metadata": {},
   "outputs": [
    {
     "name": "stdout",
     "output_type": "stream",
     "text": [
      "Old list:  [[1, 2, 3], [4, 5, 6], [7, 8, 9]]\n",
      "New list:  [[1, 2, 3], [4, 5, 6], [7, 8, 9]]\n"
     ]
    }
   ],
   "source": [
    "new_list = copy.deepcopy(old_list)\n",
    "\n",
    "print(\"Old list: \", old_list)\n",
    "print(\"New list: \", new_list)"
   ]
  },
  {
   "cell_type": "code",
   "execution_count": 20,
   "metadata": {},
   "outputs": [
    {
     "data": {
      "text/plain": [
       "6"
      ]
     },
     "execution_count": 20,
     "metadata": {},
     "output_type": "execute_result"
    }
   ],
   "source": [
    "old_list[1][2]"
   ]
  },
  {
   "cell_type": "code",
   "execution_count": 21,
   "metadata": {},
   "outputs": [
    {
     "name": "stdout",
     "output_type": "stream",
     "text": [
      "Old list:  [[1, 2, 3], [4, 5, 'Six'], [7, 8, 9]]\n",
      "New list:  [[1, 2, 3], [4, 5, 6], [7, 8, 9]]\n"
     ]
    }
   ],
   "source": [
    "old_list[1][2] = 'Six'\n",
    "\n",
    "print(\"Old list: \", old_list)\n",
    "print(\"New list: \", new_list)"
   ]
  },
  {
   "cell_type": "code",
   "execution_count": 22,
   "metadata": {},
   "outputs": [
    {
     "data": {
      "text/plain": [
       "['hackerearth', 'google', 'facebook']"
      ]
     },
     "execution_count": 22,
     "metadata": {},
     "output_type": "execute_result"
    }
   ],
   "source": [
    "companies"
   ]
  },
  {
   "cell_type": "code",
   "execution_count": 23,
   "metadata": {},
   "outputs": [
    {
     "name": "stdout",
     "output_type": "stream",
     "text": [
      "Original:  ['hackerearth', 'google', 'facebook']\n",
      "Modified:  ['skillsoft', 'microsoft', 'facebook']\n"
     ]
    }
   ],
   "source": [
    "new_companies[0] = 'skillsoft'\n",
    "\n",
    "print(\"Original: \", companies)\n",
    "print(\"Modified: \", new_companies)"
   ]
  },
  {
   "cell_type": "markdown",
   "metadata": {},
   "source": [
    "# 04_TupleCopy"
   ]
  },
  {
   "cell_type": "code",
   "execution_count": 25,
   "metadata": {},
   "outputs": [
    {
     "data": {
      "text/plain": [
       "('apple', 'banana', 'cherry')"
      ]
     },
     "execution_count": 25,
     "metadata": {},
     "output_type": "execute_result"
    }
   ],
   "source": [
    "fruits = (\"apple\", \"banana\", \"cherry\")\n",
    "\n",
    "fruits"
   ]
  },
  {
   "cell_type": "code",
   "execution_count": 26,
   "metadata": {},
   "outputs": [
    {
     "name": "stdout",
     "output_type": "stream",
     "text": [
      "Original:  ('apple', 'banana', 'cherry')\n",
      "Modified:  ('apple', 'banana', 'cherry')\n"
     ]
    }
   ],
   "source": [
    "new_fruits = fruits\n",
    "\n",
    "print(\"Original: \", fruits)\n",
    "print(\"Modified: \", new_fruits)"
   ]
  },
  {
   "cell_type": "code",
   "execution_count": 27,
   "metadata": {},
   "outputs": [
    {
     "data": {
      "text/plain": [
       "'cherry'"
      ]
     },
     "execution_count": 27,
     "metadata": {},
     "output_type": "execute_result"
    }
   ],
   "source": [
    "new_fruits[2]"
   ]
  },
  {
   "cell_type": "code",
   "execution_count": 28,
   "metadata": {},
   "outputs": [
    {
     "ename": "TypeError",
     "evalue": "'tuple' object does not support item assignment",
     "output_type": "error",
     "traceback": [
      "\u001b[0;31m---------------------------------------------------------------------------\u001b[0m",
      "\u001b[0;31mTypeError\u001b[0m                                 Traceback (most recent call last)",
      "\u001b[0;32m<ipython-input-28-38447069ae89>\u001b[0m in \u001b[0;36m<module>\u001b[0;34m\u001b[0m\n\u001b[0;32m----> 1\u001b[0;31m \u001b[0mnew_fruits\u001b[0m\u001b[0;34m[\u001b[0m\u001b[0;36m2\u001b[0m\u001b[0;34m]\u001b[0m \u001b[0;34m=\u001b[0m \u001b[0;34m\"orange\"\u001b[0m\u001b[0;34m\u001b[0m\u001b[0;34m\u001b[0m\u001b[0m\n\u001b[0m",
      "\u001b[0;31mTypeError\u001b[0m: 'tuple' object does not support item assignment"
     ]
    }
   ],
   "source": [
    "new_fruits[2] = \"orange\""
   ]
  },
  {
   "cell_type": "code",
   "execution_count": 32,
   "metadata": {},
   "outputs": [
    {
     "data": {
      "text/plain": [
       "('apple', ['banana', 'cherry'], 'blackcurrant')"
      ]
     },
     "execution_count": 32,
     "metadata": {},
     "output_type": "execute_result"
    }
   ],
   "source": [
    "fruits = (\"apple\", [\"banana\", \"cherry\"], \"blackcurrant\")\n",
    "\n",
    "fruits"
   ]
  },
  {
   "cell_type": "code",
   "execution_count": 33,
   "metadata": {},
   "outputs": [
    {
     "name": "stdout",
     "output_type": "stream",
     "text": [
      "Original:  ('apple', ['banana', 'cherry'], 'blackcurrant')\n",
      "Modified:  ('apple', ['banana', 'cherry'], 'blackcurrant')\n"
     ]
    }
   ],
   "source": [
    "new_fruits = fruits\n",
    "\n",
    "print(\"Original: \", fruits)\n",
    "print(\"Modified: \", new_fruits)"
   ]
  },
  {
   "cell_type": "code",
   "execution_count": 34,
   "metadata": {},
   "outputs": [
    {
     "data": {
      "text/plain": [
       "'banana'"
      ]
     },
     "execution_count": 34,
     "metadata": {},
     "output_type": "execute_result"
    }
   ],
   "source": [
    "new_fruits[1][0]"
   ]
  },
  {
   "cell_type": "code",
   "execution_count": 35,
   "metadata": {},
   "outputs": [
    {
     "name": "stdout",
     "output_type": "stream",
     "text": [
      "Original:  ('apple', ['orange', 'cherry'], 'blackcurrant')\n",
      "Modified:  ('apple', ['orange', 'cherry'], 'blackcurrant')\n"
     ]
    }
   ],
   "source": [
    "new_fruits[1][0] = 'orange'\n",
    "\n",
    "print(\"Original: \", fruits)\n",
    "print(\"Modified: \", new_fruits)"
   ]
  },
  {
   "cell_type": "code",
   "execution_count": 36,
   "metadata": {},
   "outputs": [],
   "source": [
    "import copy"
   ]
  },
  {
   "cell_type": "code",
   "execution_count": 37,
   "metadata": {},
   "outputs": [
    {
     "data": {
      "text/plain": [
       "('Honda', 'Suzuki', 'Triumph', ['Kawasaki', 'Ducati'])"
      ]
     },
     "execution_count": 37,
     "metadata": {},
     "output_type": "execute_result"
    }
   ],
   "source": [
    "bikes = ('Honda', 'Suzuki', 'Triumph', ['Kawasaki', 'Ducati'])\n",
    "\n",
    "bikes"
   ]
  },
  {
   "cell_type": "code",
   "execution_count": 38,
   "metadata": {},
   "outputs": [
    {
     "name": "stdout",
     "output_type": "stream",
     "text": [
      "Original:  ('Honda', 'Suzuki', 'Triumph', ['Kawasaki', 'Ducati'])\n",
      "Modified:  ('Honda', 'Suzuki', 'Triumph', ['Kawasaki', 'Ducati'])\n"
     ]
    }
   ],
   "source": [
    "new_bikes = copy.copy(bikes)\n",
    "\n",
    "print(\"Original: \", bikes)\n",
    "print(\"Modified: \", new_bikes)"
   ]
  },
  {
   "cell_type": "code",
   "execution_count": 39,
   "metadata": {},
   "outputs": [
    {
     "data": {
      "text/plain": [
       "'Kawasaki'"
      ]
     },
     "execution_count": 39,
     "metadata": {},
     "output_type": "execute_result"
    }
   ],
   "source": [
    "new_bikes[3][0]"
   ]
  },
  {
   "cell_type": "code",
   "execution_count": 40,
   "metadata": {},
   "outputs": [
    {
     "name": "stdout",
     "output_type": "stream",
     "text": [
      "Original:  ('Honda', 'Suzuki', 'Triumph', ['Doge', 'Ducati'])\n",
      "Modified:  ('Honda', 'Suzuki', 'Triumph', ['Doge', 'Ducati'])\n"
     ]
    }
   ],
   "source": [
    "new_bikes[3][0] = 'Doge'\n",
    "\n",
    "print(\"Original: \", bikes)\n",
    "print(\"Modified: \", new_bikes)"
   ]
  },
  {
   "cell_type": "code",
   "execution_count": 41,
   "metadata": {},
   "outputs": [
    {
     "name": "stdout",
     "output_type": "stream",
     "text": [
      "Original:  ('Honda', 'Suzuki', 'Triumph', ['Doge', 'Ducati'])\n",
      "Modified:  ('Honda', 'Suzuki', 'Triumph', ['Doge', 'Ducati'])\n"
     ]
    }
   ],
   "source": [
    "new_bikes = copy.deepcopy(bikes)\n",
    "\n",
    "print(\"Original: \", bikes)\n",
    "print(\"Modified: \", new_bikes)"
   ]
  },
  {
   "cell_type": "code",
   "execution_count": 42,
   "metadata": {},
   "outputs": [
    {
     "name": "stdout",
     "output_type": "stream",
     "text": [
      "Original:  ('Honda', 'Suzuki', 'Triumph', ['Doge', 'Ducati'])\n",
      "Modified:  ('Honda', 'Suzuki', 'Triumph', ['Harley Davidson', 'Ducati'])\n"
     ]
    }
   ],
   "source": [
    "new_bikes[3][0] = 'Harley Davidson'\n",
    "\n",
    "print(\"Original: \", bikes)\n",
    "print(\"Modified: \", new_bikes)"
   ]
  },
  {
   "cell_type": "markdown",
   "metadata": {},
   "source": [
    "# 05_DictionaryShallowCopy"
   ]
  },
  {
   "cell_type": "code",
   "execution_count": 43,
   "metadata": {},
   "outputs": [
    {
     "data": {
      "text/plain": [
       "{'jan': 1, 'feb': 2, 'march': 3, 'april': 4}"
      ]
     },
     "execution_count": 43,
     "metadata": {},
     "output_type": "execute_result"
    }
   ],
   "source": [
    "months = {'jan' : 1, 'feb': 2, 'march': 3, 'april': 4}\n",
    "\n",
    "months"
   ]
  },
  {
   "cell_type": "code",
   "execution_count": 44,
   "metadata": {},
   "outputs": [
    {
     "name": "stdout",
     "output_type": "stream",
     "text": [
      "Original:  {'jan': 1, 'feb': 2, 'march': 3, 'april': 4}\n",
      "Modified:  {'jan': 1, 'feb': 2, 'march': 3, 'april': 4}\n"
     ]
    }
   ],
   "source": [
    "new_months = months\n",
    "\n",
    "print(\"Original: \", months)\n",
    "print(\"Modified: \", new_months)"
   ]
  },
  {
   "cell_type": "code",
   "execution_count": 45,
   "metadata": {},
   "outputs": [
    {
     "data": {
      "text/plain": [
       "2"
      ]
     },
     "execution_count": 45,
     "metadata": {},
     "output_type": "execute_result"
    }
   ],
   "source": [
    "new_months['feb']"
   ]
  },
  {
   "cell_type": "code",
   "execution_count": 46,
   "metadata": {},
   "outputs": [
    {
     "name": "stdout",
     "output_type": "stream",
     "text": [
      "Original:  {'jan': 1, 'feb': 'FEB', 'march': 3, 'april': 4}\n",
      "Modified:  {'jan': 1, 'feb': 'FEB', 'march': 3, 'april': 4}\n"
     ]
    }
   ],
   "source": [
    "new_months['feb'] = 'FEB'\n",
    "\n",
    "print(\"Original: \", months)\n",
    "print(\"Modified: \", new_months)"
   ]
  },
  {
   "cell_type": "code",
   "execution_count": 47,
   "metadata": {},
   "outputs": [],
   "source": [
    "import copy"
   ]
  },
  {
   "cell_type": "code",
   "execution_count": 48,
   "metadata": {},
   "outputs": [
    {
     "data": {
      "text/plain": [
       "{'Alison': 2007, 'Bart': 2008, 'Cathy': 2009, 'Dan': 2010}"
      ]
     },
     "execution_count": 48,
     "metadata": {},
     "output_type": "execute_result"
    }
   ],
   "source": [
    "employees = {\"Alison\" : 2007, \"Bart\" : 2008, \"Cathy\" : 2009, \"Dan\" : 2010} \n",
    "\n",
    "employees"
   ]
  },
  {
   "cell_type": "code",
   "execution_count": 50,
   "metadata": {},
   "outputs": [
    {
     "name": "stdout",
     "output_type": "stream",
     "text": [
      "{'Alison': 2007, 'Bart': 2008, 'Cathy': 2009, 'Dan': 2010}\n",
      "{'Alison': 2007, 'Bart': 2008, 'Cathy': 2009, 'Dan': 2010}\n"
     ]
    }
   ],
   "source": [
    "employees_copy = copy.copy(employees)\n",
    "\n",
    "print(employees)\n",
    "print(employees_copy)"
   ]
  },
  {
   "cell_type": "code",
   "execution_count": 51,
   "metadata": {},
   "outputs": [
    {
     "data": {
      "text/plain": [
       "2007"
      ]
     },
     "execution_count": 51,
     "metadata": {},
     "output_type": "execute_result"
    }
   ],
   "source": [
    "employees[\"Alison\"]"
   ]
  },
  {
   "cell_type": "code",
   "execution_count": 52,
   "metadata": {},
   "outputs": [
    {
     "name": "stdout",
     "output_type": "stream",
     "text": [
      "{'Alison': 2007, 'Bart': 2008, 'Cathy': 2009, 'Dan': 2010}\n",
      "{'Alison': 2007, 'Bart': 2008, 'Cathy': 2009, 'Dan': 2010}\n"
     ]
    }
   ],
   "source": [
    "employee_copy[\"Alison\"] = 2005\n",
    "\n",
    "print(employees)\n",
    "print(employees_copy)"
   ]
  },
  {
   "cell_type": "code",
   "execution_count": 53,
   "metadata": {},
   "outputs": [
    {
     "data": {
      "text/plain": [
       "{'one': 1, 'two': 2, 'three': 3, 'four': [1, 2, 3, 4.0]}"
      ]
     },
     "execution_count": 53,
     "metadata": {},
     "output_type": "execute_result"
    }
   ],
   "source": [
    "orig_dict = {'one':1, 'two':2, 'three':3, 'four':[1, 2, 3, 4.0]}\n",
    "\n",
    "orig_dict"
   ]
  },
  {
   "cell_type": "code",
   "execution_count": 54,
   "metadata": {},
   "outputs": [
    {
     "name": "stdout",
     "output_type": "stream",
     "text": [
      "Original: {'one': 1, 'two': 2, 'three': 3, 'four': [1, 2, 3, 4.0]}\n",
      "Modified: {'one': 1, 'two': 2, 'three': 3, 'four': [1, 2, 3, 4.0]}\n"
     ]
    }
   ],
   "source": [
    "new_dict = copy.copy(orig_dict)\n",
    "\n",
    "print ('Original:', orig_dict)\n",
    "print ('Modified:', new_dict)"
   ]
  },
  {
   "cell_type": "code",
   "execution_count": 55,
   "metadata": {},
   "outputs": [
    {
     "name": "stdout",
     "output_type": "stream",
     "text": [
      "Original: {'one': 1, 'two': 2, 'three': 3, 'four': [1, 2, 3, 'FOUR']}\n",
      "Modified: {'one': 1, 'two': 2, 'three': 3, 'four': [1, 2, 3, 'FOUR']}\n"
     ]
    }
   ],
   "source": [
    "new_dict['four'][3] = 'FOUR'\n",
    "\n",
    "print ('Original:', orig_dict)\n",
    "print ('Modified:', new_dict)"
   ]
  },
  {
   "cell_type": "code",
   "execution_count": 56,
   "metadata": {},
   "outputs": [
    {
     "name": "stdout",
     "output_type": "stream",
     "text": [
      "Original: {'one': 1, 'two': 2, 'three': 3, 'four': [1, 2, 3, 'FOUR', 5]}\n",
      "Modified: {'one': 1, 'two': 2, 'three': 3, 'four': [1, 2, 3, 'FOUR', 5]}\n"
     ]
    }
   ],
   "source": [
    "new_dict['four'].append(5)\n",
    "\n",
    "print ('Original:', orig_dict)\n",
    "print ('Modified:', new_dict)"
   ]
  },
  {
   "cell_type": "code",
   "execution_count": 57,
   "metadata": {},
   "outputs": [
    {
     "data": {
      "text/plain": [
       "{'one': 1, 'two': 2, 'three': {'zero': 0, 'one': 1}, 'four': 4}"
      ]
     },
     "execution_count": 57,
     "metadata": {},
     "output_type": "execute_result"
    }
   ],
   "source": [
    "orig_dict = {'one':1, 'two':2, 'three': {'zero':0, 'one':1}, 'four':4}\n",
    "\n",
    "orig_dict"
   ]
  },
  {
   "cell_type": "code",
   "execution_count": 58,
   "metadata": {},
   "outputs": [
    {
     "name": "stdout",
     "output_type": "stream",
     "text": [
      "{'one': 1, 'two': 2, 'three': {'zero': 0, 'one': 1}, 'four': 4}\n",
      "{'one': 1, 'two': 2, 'three': {'zero': 0, 'one': 1}, 'four': 4}\n"
     ]
    }
   ],
   "source": [
    "new_dict = copy.copy(orig_dict)\n",
    "\n",
    "print(orig_dict)\n",
    "print(new_dict)"
   ]
  },
  {
   "cell_type": "code",
   "execution_count": 59,
   "metadata": {},
   "outputs": [
    {
     "name": "stdout",
     "output_type": "stream",
     "text": [
      "{'one': 1, 'two': 2, 'three': {'zero': 'ZERO', 'one': 1}, 'four': 4}\n",
      "{'one': 1, 'two': 2, 'three': {'zero': 'ZERO', 'one': 1}, 'four': 4}\n"
     ]
    }
   ],
   "source": [
    "new_dict['three']['zero'] = 'ZERO'\n",
    "\n",
    "print(orig_dict)\n",
    "print(new_dict)"
   ]
  },
  {
   "cell_type": "code",
   "execution_count": 60,
   "metadata": {},
   "outputs": [
    {
     "data": {
      "text/plain": [
       "{'one': 1, 'two': 2, 'three': {'zero': 'ZERO', 'one': 1}, 'four': 4}"
      ]
     },
     "execution_count": 60,
     "metadata": {},
     "output_type": "execute_result"
    }
   ],
   "source": [
    "orig_dict"
   ]
  },
  {
   "cell_type": "code",
   "execution_count": 61,
   "metadata": {},
   "outputs": [
    {
     "data": {
      "text/plain": [
       "{'one': 1, 'two': 2, 'three': {0, 1, 2}, 'four': 4}"
      ]
     },
     "execution_count": 61,
     "metadata": {},
     "output_type": "execute_result"
    }
   ],
   "source": [
    "orig_dict = {'one':1, 'two':2, 'three': {0, 1, 2}, 'four':4}\n",
    "\n",
    "orig_dict"
   ]
  },
  {
   "cell_type": "code",
   "execution_count": 62,
   "metadata": {},
   "outputs": [
    {
     "name": "stdout",
     "output_type": "stream",
     "text": [
      "Original: {'one': 1, 'two': 2, 'three': {0, 1, 2}, 'four': 4}\n",
      "Modified: {'one': 1, 'two': 2, 'three': {0, 1, 2}, 'four': 4}\n"
     ]
    }
   ],
   "source": [
    "new_dict = copy.copy(orig_dict)\n",
    "\n",
    "print ('Original:', orig_dict)\n",
    "print ('Modified:', new_dict)"
   ]
  },
  {
   "cell_type": "code",
   "execution_count": 63,
   "metadata": {},
   "outputs": [
    {
     "data": {
      "text/plain": [
       "{0, 1, 2}"
      ]
     },
     "execution_count": 63,
     "metadata": {},
     "output_type": "execute_result"
    }
   ],
   "source": [
    "new_dict['three']"
   ]
  },
  {
   "cell_type": "code",
   "execution_count": 64,
   "metadata": {},
   "outputs": [
    {
     "name": "stdout",
     "output_type": "stream",
     "text": [
      "Original: {'one': 1, 'two': 2, 'three': {0, 1, 2, 3}, 'four': 4}\n",
      "Modified: {'one': 1, 'two': 2, 'three': {0, 1, 2, 3}, 'four': 4}\n"
     ]
    }
   ],
   "source": [
    "new_dict['three'].add(3)\n",
    "\n",
    "print ('Original:', orig_dict)\n",
    "print ('Modified:', new_dict)"
   ]
  },
  {
   "cell_type": "code",
   "execution_count": 65,
   "metadata": {},
   "outputs": [
    {
     "data": {
      "text/plain": [
       "{'one': 1, 'two': 2, 'three': {0, 1, 2}, 'four': 4}"
      ]
     },
     "execution_count": 65,
     "metadata": {},
     "output_type": "execute_result"
    }
   ],
   "source": [
    "orig_dict = {'one':1, 'two':2, 'three': {0, 1, 2}, 'four':4}\n",
    "\n",
    "orig_dict"
   ]
  },
  {
   "cell_type": "code",
   "execution_count": 66,
   "metadata": {},
   "outputs": [
    {
     "name": "stdout",
     "output_type": "stream",
     "text": [
      "Original: {'one': 1, 'two': 2, 'three': {0, 1, 2}, 'four': 4}\n",
      "Modified: {'one': 1, 'two': 2, 'three': {0, 1, 2}, 'four': 4}\n"
     ]
    }
   ],
   "source": [
    "new_dict = copy.deepcopy(orig_dict) \n",
    "# deep copy of the same example as above\n",
    "\n",
    "print ('Original:', orig_dict)\n",
    "print ('Modified:', new_dict)"
   ]
  },
  {
   "cell_type": "code",
   "execution_count": 67,
   "metadata": {},
   "outputs": [
    {
     "data": {
      "text/plain": [
       "{0, 1, 2}"
      ]
     },
     "execution_count": 67,
     "metadata": {},
     "output_type": "execute_result"
    }
   ],
   "source": [
    "new_dict['three']"
   ]
  },
  {
   "cell_type": "code",
   "execution_count": 69,
   "metadata": {},
   "outputs": [
    {
     "name": "stdout",
     "output_type": "stream",
     "text": [
      "Original: {'one': 1, 'two': 2, 'three': {0, 1, 2}, 'four': 4}\n",
      "Modified: {'one': 1, 'two': 2, 'three': {0, 1, 2, 3}, 'four': 4}\n"
     ]
    }
   ],
   "source": [
    "new_dict['three'].add(3)\n",
    "\n",
    "print ('Original:', orig_dict)\n",
    "print ('Modified:', new_dict)"
   ]
  },
  {
   "cell_type": "markdown",
   "metadata": {},
   "source": [
    "# 06_DictionaryDeepCopy"
   ]
  },
  {
   "cell_type": "code",
   "execution_count": 70,
   "metadata": {},
   "outputs": [
    {
     "data": {
      "text/plain": [
       "{'jan': 1, 'feb': 'FEB', 'march': 3, 'april': 4}"
      ]
     },
     "execution_count": 70,
     "metadata": {},
     "output_type": "execute_result"
    }
   ],
   "source": [
    "months"
   ]
  },
  {
   "cell_type": "code",
   "execution_count": 71,
   "metadata": {},
   "outputs": [
    {
     "data": {
      "text/plain": [
       "{'jan': 1, 'feb': 'FEB', 'march': 3, 'april': 4}"
      ]
     },
     "execution_count": 71,
     "metadata": {},
     "output_type": "execute_result"
    }
   ],
   "source": [
    "new_months"
   ]
  },
  {
   "cell_type": "code",
   "execution_count": 74,
   "metadata": {},
   "outputs": [
    {
     "data": {
      "text/plain": [
       "{'jan': 1, 'feb': 2, 'march': 3, 'april': 4}"
      ]
     },
     "execution_count": 74,
     "metadata": {},
     "output_type": "execute_result"
    }
   ],
   "source": [
    "months = {'jan': 1, 'feb': 2, 'march': 3, 'april':4}\n",
    "\n",
    "months"
   ]
  },
  {
   "cell_type": "code",
   "execution_count": 75,
   "metadata": {},
   "outputs": [
    {
     "name": "stdout",
     "output_type": "stream",
     "text": [
      "Original: {'jan': 1, 'feb': 2, 'march': 3, 'april': 4}\n",
      "Modified: {'jan': 1, 'feb': 2, 'march': 3, 'april': 4}\n"
     ]
    }
   ],
   "source": [
    "new_months = months.copy()\n",
    "\n",
    "print(\"Original:\", months)\n",
    "print(\"Modified:\", new_months)"
   ]
  },
  {
   "cell_type": "code",
   "execution_count": 76,
   "metadata": {},
   "outputs": [
    {
     "data": {
      "text/plain": [
       "2"
      ]
     },
     "execution_count": 76,
     "metadata": {},
     "output_type": "execute_result"
    }
   ],
   "source": [
    "new_months['feb']"
   ]
  },
  {
   "cell_type": "code",
   "execution_count": 77,
   "metadata": {},
   "outputs": [
    {
     "name": "stdout",
     "output_type": "stream",
     "text": [
      "Original: {'jan': 1, 'feb': 2, 'march': 3, 'april': 4}\n",
      "Modified: {'jan': 1, 'feb': 'FEB', 'march': 3, 'april': 4}\n"
     ]
    }
   ],
   "source": [
    "new_months['feb'] = 'FEB'\n",
    "\n",
    "print(\"Original:\", months)\n",
    "print(\"Modified:\", new_months)"
   ]
  },
  {
   "cell_type": "code",
   "execution_count": 78,
   "metadata": {},
   "outputs": [],
   "source": [
    "import copy"
   ]
  },
  {
   "cell_type": "code",
   "execution_count": 79,
   "metadata": {},
   "outputs": [
    {
     "data": {
      "text/plain": [
       "{'Alison': 2007, 'Bart': 2008, 'Cathy': 2009, 'Dan': 2010}"
      ]
     },
     "execution_count": 79,
     "metadata": {},
     "output_type": "execute_result"
    }
   ],
   "source": [
    "employees = {\"Alison\" : 2007, \"Bart\" : 2008, \"Cathy\" : 2009, \"Dan\" : 2010} \n",
    "\n",
    "employees"
   ]
  },
  {
   "cell_type": "code",
   "execution_count": 80,
   "metadata": {},
   "outputs": [
    {
     "name": "stdout",
     "output_type": "stream",
     "text": [
      "{'Alison': 2007, 'Bart': 2008, 'Cathy': 2009, 'Dan': 2010}\n",
      "{'Alison': 2007, 'Bart': 2008, 'Cathy': 2009, 'Dan': 2010}\n"
     ]
    }
   ],
   "source": [
    "employees_copy = copy.deepcopy(employees)\n",
    "\n",
    "print(employees)\n",
    "print(employees_copy)"
   ]
  },
  {
   "cell_type": "code",
   "execution_count": 82,
   "metadata": {},
   "outputs": [
    {
     "name": "stdout",
     "output_type": "stream",
     "text": [
      "{'Alison': 2011, 'Bart': 2008, 'Cathy': 2009, 'Dan': 2010}\n",
      "{'Alison': 2007, 'Bart': 2008, 'Cathy': 2009, 'Dan': 2010}\n"
     ]
    }
   ],
   "source": [
    "employees[\"Alison\"] = 2011\n",
    "\n",
    "print(employees)\n",
    "print(employees_copy)"
   ]
  },
  {
   "cell_type": "code",
   "execution_count": 83,
   "metadata": {},
   "outputs": [
    {
     "data": {
      "text/plain": [
       "{'one': 1, 'two': 2, 'three': {0, 1, 2}, 'four': 4}"
      ]
     },
     "execution_count": 83,
     "metadata": {},
     "output_type": "execute_result"
    }
   ],
   "source": [
    "orig_dict"
   ]
  },
  {
   "cell_type": "code",
   "execution_count": 84,
   "metadata": {},
   "outputs": [
    {
     "data": {
      "text/plain": [
       "{'one': 1, 'two': 2, 'three': 3, 'four': [1, 2, 3, 4.0]}"
      ]
     },
     "execution_count": 84,
     "metadata": {},
     "output_type": "execute_result"
    }
   ],
   "source": [
    "orig_dict = {'one':1, 'two':2, 'three':3, 'four':[1, 2, 3, 4.0]}\n",
    "\n",
    "orig_dict"
   ]
  },
  {
   "cell_type": "code",
   "execution_count": 85,
   "metadata": {},
   "outputs": [
    {
     "name": "stdout",
     "output_type": "stream",
     "text": [
      "Original: {'one': 1, 'two': 2, 'three': 3, 'four': [1, 2, 3, 4.0]}\n",
      "Modified: {'one': 1, 'two': 2, 'three': 3, 'four': [1, 2, 3, 4.0]}\n"
     ]
    }
   ],
   "source": [
    "new_dict = copy.deepcopy(orig_dict)\n",
    "\n",
    "print ('Original:', orig_dict)\n",
    "print ('Modified:', new_dict)"
   ]
  },
  {
   "cell_type": "code",
   "execution_count": 86,
   "metadata": {},
   "outputs": [
    {
     "name": "stdout",
     "output_type": "stream",
     "text": [
      "Original: {'one': 1, 'two': 2, 'three': 3, 'four': [1, 2, 3, 4.0]}\n",
      "Modified: {'one': 1, 'two': 2, 'three': 3, 'four': [1, 2, 3, 'FOUR']}\n"
     ]
    }
   ],
   "source": [
    "new_dict['four'][3] = 'FOUR'\n",
    "\n",
    "print ('Original:', orig_dict) \n",
    "print ('Modified:', new_dict)"
   ]
  },
  {
   "cell_type": "code",
   "execution_count": 87,
   "metadata": {},
   "outputs": [
    {
     "name": "stdout",
     "output_type": "stream",
     "text": [
      "Original: {'one': 1, 'two': 2, 'three': 3, 'four': [1, 2, 3, 4.0]}\n",
      "Modified: {'one': 1, 'two': 2, 'three': 3, 'four': [1, 2, 3, 'FOUR', 5]}\n"
     ]
    }
   ],
   "source": [
    "new_dict['four'].append(5)\n",
    "\n",
    "print ('Original:', orig_dict) \n",
    "print ('Modified:', new_dict)"
   ]
  },
  {
   "cell_type": "code",
   "execution_count": 88,
   "metadata": {},
   "outputs": [
    {
     "data": {
      "text/plain": [
       "{'one': 1, 'two': 2, 'three': 3, 'four': [1, 2, 3, 4.0]}"
      ]
     },
     "execution_count": 88,
     "metadata": {},
     "output_type": "execute_result"
    }
   ],
   "source": [
    "orig_dict"
   ]
  },
  {
   "cell_type": "code",
   "execution_count": 89,
   "metadata": {},
   "outputs": [
    {
     "data": {
      "text/plain": [
       "{'one': 1, 'two': 2, 'three': {'zero': 0, 'one': 1}, 'four': 4}"
      ]
     },
     "execution_count": 89,
     "metadata": {},
     "output_type": "execute_result"
    }
   ],
   "source": [
    "orig_dict = {'one':1, 'two':2, 'three': {'zero':0, 'one':1}, 'four':4}\n",
    "\n",
    "orig_dict"
   ]
  },
  {
   "cell_type": "code",
   "execution_count": 91,
   "metadata": {},
   "outputs": [
    {
     "name": "stdout",
     "output_type": "stream",
     "text": [
      "{'one': 1, 'two': 2, 'three': {'zero': 0, 'one': 1}, 'four': 4}\n",
      "{'one': 1, 'two': 2, 'three': {'zero': 0, 'one': 1}, 'four': 4}\n"
     ]
    }
   ],
   "source": [
    "new_dict = copy.deepcopy(orig_dict)\n",
    "\n",
    "print(orig_dict)\n",
    "print(new_dict)"
   ]
  },
  {
   "cell_type": "code",
   "execution_count": 92,
   "metadata": {},
   "outputs": [
    {
     "data": {
      "text/plain": [
       "0"
      ]
     },
     "execution_count": 92,
     "metadata": {},
     "output_type": "execute_result"
    }
   ],
   "source": [
    "new_dict['three']['zero']"
   ]
  },
  {
   "cell_type": "code",
   "execution_count": 93,
   "metadata": {},
   "outputs": [
    {
     "name": "stdout",
     "output_type": "stream",
     "text": [
      "{'one': 1, 'two': 2, 'three': {'zero': 0, 'one': 1}, 'four': 4}\n",
      "{'one': 1, 'two': 2, 'three': {'zero': 'ZERO', 'one': 1}, 'four': 4}\n"
     ]
    }
   ],
   "source": [
    "new_dict['three']['zero'] = 'ZERO'\n",
    "\n",
    "print(orig_dict)\n",
    "print(new_dict)"
   ]
  },
  {
   "cell_type": "code",
   "execution_count": 94,
   "metadata": {},
   "outputs": [
    {
     "data": {
      "text/plain": [
       "{'one': 1, 'two': 2, 'three': {'zero': 0, 'one': 1}, 'four': 4}"
      ]
     },
     "execution_count": 94,
     "metadata": {},
     "output_type": "execute_result"
    }
   ],
   "source": [
    "orig_dict"
   ]
  },
  {
   "cell_type": "code",
   "execution_count": 95,
   "metadata": {},
   "outputs": [
    {
     "data": {
      "text/plain": [
       "{'one': 1, 'two': 2, 'three': {0, 1, 2}, 'four': 4}"
      ]
     },
     "execution_count": 95,
     "metadata": {},
     "output_type": "execute_result"
    }
   ],
   "source": [
    "orig_dict = {'one':1, 'two':2, 'three':{0,1,2}, 'four':4}\n",
    "orig_dict"
   ]
  },
  {
   "cell_type": "code",
   "execution_count": 96,
   "metadata": {},
   "outputs": [
    {
     "name": "stdout",
     "output_type": "stream",
     "text": [
      "Original: {'one': 1, 'two': 2, 'three': {0, 1, 2}, 'four': 4}\n",
      "Modified: {'one': 1, 'two': 2, 'three': {0, 1, 2}, 'four': 4}\n"
     ]
    }
   ],
   "source": [
    "new_dict = copy.deepcopy(orig_dict)\n",
    "\n",
    "print ('Original:', orig_dict)\n",
    "print ('Modified:', new_dict)"
   ]
  },
  {
   "cell_type": "code",
   "execution_count": 97,
   "metadata": {},
   "outputs": [
    {
     "data": {
      "text/plain": [
       "{0, 1, 2}"
      ]
     },
     "execution_count": 97,
     "metadata": {},
     "output_type": "execute_result"
    }
   ],
   "source": [
    "new_dict['three']"
   ]
  },
  {
   "cell_type": "code",
   "execution_count": 98,
   "metadata": {},
   "outputs": [
    {
     "name": "stdout",
     "output_type": "stream",
     "text": [
      "Original: {'one': 1, 'two': 2, 'three': {0, 1, 2}, 'four': 4}\n",
      "Modified: {'one': 1, 'two': 2, 'three': {0, 1, 2, 'THREE'}, 'four': 4}\n"
     ]
    }
   ],
   "source": [
    "new_dict['three'].add('THREE')\n",
    "\n",
    "print ('Original:', orig_dict)\n",
    "print ('Modified:', new_dict)"
   ]
  },
  {
   "cell_type": "markdown",
   "metadata": {},
   "source": [
    "# 07_SetCopy"
   ]
  },
  {
   "cell_type": "code",
   "execution_count": 99,
   "metadata": {},
   "outputs": [
    {
     "data": {
      "text/plain": [
       "{'c++', 'java', 'php', 'python'}"
      ]
     },
     "execution_count": 99,
     "metadata": {},
     "output_type": "execute_result"
    }
   ],
   "source": [
    "set_1 = {'c++', 'php', 'java', 'python'}\n",
    "\n",
    "set_1"
   ]
  },
  {
   "cell_type": "code",
   "execution_count": 100,
   "metadata": {},
   "outputs": [
    {
     "name": "stdout",
     "output_type": "stream",
     "text": [
      "Original: {'python', 'java', 'php', 'c++'}\n",
      "Modified: {'python', 'java', 'php', 'c++'}\n"
     ]
    }
   ],
   "source": [
    "set_2 = set_1\n",
    "\n",
    "print(\"Original:\", set_1)\n",
    "print(\"Modified:\", set_2) "
   ]
  },
  {
   "cell_type": "code",
   "execution_count": 101,
   "metadata": {},
   "outputs": [
    {
     "name": "stdout",
     "output_type": "stream",
     "text": [
      "Original: {'sql', 'python', 'java', 'php', 'c++'}\n",
      "Modified: {'sql', 'python', 'java', 'php', 'c++'}\n"
     ]
    }
   ],
   "source": [
    "set_2.add('sql')\n",
    "\n",
    "print(\"Original:\", set_1)\n",
    "print(\"Modified:\", set_2)"
   ]
  },
  {
   "cell_type": "code",
   "execution_count": 103,
   "metadata": {},
   "outputs": [
    {
     "data": {
      "text/plain": [
       "'sql'"
      ]
     },
     "execution_count": 103,
     "metadata": {},
     "output_type": "execute_result"
    }
   ],
   "source": [
    "set_2.pop()"
   ]
  },
  {
   "cell_type": "code",
   "execution_count": 104,
   "metadata": {},
   "outputs": [
    {
     "name": "stdout",
     "output_type": "stream",
     "text": [
      "Original: {'python', 'java', 'php', 'c++'}\n",
      "Modified: {'python', 'java', 'php', 'c++'}\n"
     ]
    }
   ],
   "source": [
    "print(\"Original:\", set_1)\n",
    "print(\"Modified:\", set_2)"
   ]
  },
  {
   "cell_type": "code",
   "execution_count": 105,
   "metadata": {},
   "outputs": [
    {
     "ename": "TypeError",
     "evalue": "'set' object is not subscriptable",
     "output_type": "error",
     "traceback": [
      "\u001b[0;31m---------------------------------------------------------------------------\u001b[0m",
      "\u001b[0;31mTypeError\u001b[0m                                 Traceback (most recent call last)",
      "\u001b[0;32m<ipython-input-105-f0806d9ed1ed>\u001b[0m in \u001b[0;36m<module>\u001b[0;34m\u001b[0m\n\u001b[0;32m----> 1\u001b[0;31m \u001b[0mset_2\u001b[0m\u001b[0;34m[\u001b[0m\u001b[0;36m2\u001b[0m\u001b[0;34m]\u001b[0m\u001b[0;34m\u001b[0m\u001b[0;34m\u001b[0m\u001b[0m\n\u001b[0m",
      "\u001b[0;31mTypeError\u001b[0m: 'set' object is not subscriptable"
     ]
    }
   ],
   "source": [
    "set_2[2]"
   ]
  },
  {
   "cell_type": "code",
   "execution_count": 106,
   "metadata": {},
   "outputs": [
    {
     "ename": "TypeError",
     "evalue": "'set' object does not support item assignment",
     "output_type": "error",
     "traceback": [
      "\u001b[0;31m---------------------------------------------------------------------------\u001b[0m",
      "\u001b[0;31mTypeError\u001b[0m                                 Traceback (most recent call last)",
      "\u001b[0;32m<ipython-input-106-0cd1cfd792d6>\u001b[0m in \u001b[0;36m<module>\u001b[0;34m\u001b[0m\n\u001b[0;32m----> 1\u001b[0;31m \u001b[0mset_2\u001b[0m\u001b[0;34m[\u001b[0m\u001b[0;36m2\u001b[0m\u001b[0;34m]\u001b[0m \u001b[0;34m=\u001b[0m \u001b[0;34m'ruby'\u001b[0m\u001b[0;34m\u001b[0m\u001b[0;34m\u001b[0m\u001b[0m\n\u001b[0m",
      "\u001b[0;31mTypeError\u001b[0m: 'set' object does not support item assignment"
     ]
    }
   ],
   "source": [
    "set_2[2] = 'ruby'"
   ]
  },
  {
   "cell_type": "code",
   "execution_count": 107,
   "metadata": {},
   "outputs": [
    {
     "data": {
      "text/plain": [
       "{'c++', 'java', 'php', 'python'}"
      ]
     },
     "execution_count": 107,
     "metadata": {},
     "output_type": "execute_result"
    }
   ],
   "source": [
    "set_1"
   ]
  },
  {
   "cell_type": "code",
   "execution_count": 108,
   "metadata": {},
   "outputs": [
    {
     "data": {
      "text/plain": [
       "{('java', 'python'), 'c++', 'php', 'sql'}"
      ]
     },
     "execution_count": 108,
     "metadata": {},
     "output_type": "execute_result"
    }
   ],
   "source": [
    "set_1 = {'c++', 'php', ('java', 'python'), 'sql'}\n",
    "\n",
    "set_1"
   ]
  },
  {
   "cell_type": "code",
   "execution_count": 109,
   "metadata": {},
   "outputs": [
    {
     "name": "stdout",
     "output_type": "stream",
     "text": [
      "Original: {('java', 'python'), 'sql', 'php', 'c++'}\n",
      "Modified: {('java', 'python'), 'sql', 'php', 'c++'}\n"
     ]
    }
   ],
   "source": [
    "set_2 = set_1\n",
    "\n",
    "print(\"Original:\", set_1)\n",
    "print(\"Modified:\", set_2)"
   ]
  },
  {
   "cell_type": "code",
   "execution_count": 110,
   "metadata": {},
   "outputs": [],
   "source": [
    "import copy"
   ]
  },
  {
   "cell_type": "code",
   "execution_count": 113,
   "metadata": {},
   "outputs": [
    {
     "data": {
      "text/plain": [
       "{'Ava', 'Daniel', 'Jacob', 'Mia'}"
      ]
     },
     "execution_count": 113,
     "metadata": {},
     "output_type": "execute_result"
    }
   ],
   "source": [
    "teachers_set = {\"Ava\", \"Mia\", \"Jacob\", \"Daniel\"}\n",
    "\n",
    "teachers_set"
   ]
  },
  {
   "cell_type": "code",
   "execution_count": 114,
   "metadata": {},
   "outputs": [
    {
     "name": "stdout",
     "output_type": "stream",
     "text": [
      "{'Mia', 'Daniel', 'Jacob', 'Ava'}\n",
      "{'Mia', 'Daniel', 'Jacob', 'Ava'}\n"
     ]
    }
   ],
   "source": [
    "new_teachers_set = copy.copy(teachers_set)\n",
    "\n",
    "print(teachers_set)\n",
    "print(new_teachers_set)"
   ]
  },
  {
   "cell_type": "code",
   "execution_count": 118,
   "metadata": {},
   "outputs": [
    {
     "name": "stdout",
     "output_type": "stream",
     "text": [
      "{'Daniel', 'Jacob', 'Mia', 'Emma', 'Ava'}\n",
      "{'Mia', 'Daniel', 'Jacob', 'Ava'}\n"
     ]
    }
   ],
   "source": [
    "teachers_set.add(\"Emma\")\n",
    "\n",
    "print(teachers_set)\n",
    "print(new_teachers_set)"
   ]
  },
  {
   "cell_type": "code",
   "execution_count": 119,
   "metadata": {},
   "outputs": [
    {
     "name": "stdout",
     "output_type": "stream",
     "text": [
      "{'Daniel', 'Jacob', 'Mia', 'Emma'}\n",
      "{'Mia', 'Daniel', 'Jacob', 'Ava'}\n"
     ]
    }
   ],
   "source": [
    "teachers_set.remove(\"Ava\")\n",
    "\n",
    "print(teachers_set)\n",
    "print(new_teachers_set)"
   ]
  },
  {
   "cell_type": "code",
   "execution_count": 120,
   "metadata": {},
   "outputs": [
    {
     "data": {
      "text/plain": [
       "{'Daniel', 'Emma', 'Jacob', 'Mia'}"
      ]
     },
     "execution_count": 120,
     "metadata": {},
     "output_type": "execute_result"
    }
   ],
   "source": [
    "teachers_set"
   ]
  },
  {
   "cell_type": "code",
   "execution_count": 121,
   "metadata": {},
   "outputs": [
    {
     "data": {
      "text/plain": [
       "{'Ava', 'Daniel', 'Jacob', 'Mia'}"
      ]
     },
     "execution_count": 121,
     "metadata": {},
     "output_type": "execute_result"
    }
   ],
   "source": [
    "teachers_set = {\"Ava\", \"Mia\", \"Jacob\", \"Daniel\"}\n",
    "\n",
    "teachers_set"
   ]
  },
  {
   "cell_type": "code",
   "execution_count": 122,
   "metadata": {},
   "outputs": [
    {
     "name": "stdout",
     "output_type": "stream",
     "text": [
      "{'Mia', 'Daniel', 'Jacob', 'Ava'}\n",
      "{'Mia', 'Daniel', 'Jacob', 'Ava'}\n"
     ]
    }
   ],
   "source": [
    "new_teachers_set = copy.deepcopy(teachers_set)\n",
    "\n",
    "print(teachers_set)\n",
    "print(new_teachers_set)"
   ]
  },
  {
   "cell_type": "code",
   "execution_count": 123,
   "metadata": {},
   "outputs": [
    {
     "name": "stdout",
     "output_type": "stream",
     "text": [
      "{'Daniel', 'Jacob', 'Mia', 'Emma', 'Ava'}\n",
      "{'Mia', 'Daniel', 'Jacob', 'Ava'}\n"
     ]
    }
   ],
   "source": [
    "teachers_set.add(\"Emma\")\n",
    "\n",
    "print(teachers_set)\n",
    "print(new_teachers_set)"
   ]
  },
  {
   "cell_type": "code",
   "execution_count": 124,
   "metadata": {},
   "outputs": [
    {
     "name": "stdout",
     "output_type": "stream",
     "text": [
      "{'Daniel', 'Jacob', 'Mia', 'Emma'}\n",
      "{'Mia', 'Daniel', 'Jacob', 'Ava'}\n"
     ]
    }
   ],
   "source": [
    "teachers_set.remove(\"Ava\")\n",
    "\n",
    "print(teachers_set)\n",
    "print(new_teachers_set)"
   ]
  }
 ],
 "metadata": {
  "kernelspec": {
   "display_name": "Python 3",
   "language": "python",
   "name": "python3"
  },
  "language_info": {
   "codemirror_mode": {
    "name": "ipython",
    "version": 3
   },
   "file_extension": ".py",
   "mimetype": "text/x-python",
   "name": "python",
   "nbconvert_exporter": "python",
   "pygments_lexer": "ipython3",
   "version": "3.7.3"
  }
 },
 "nbformat": 4,
 "nbformat_minor": 2
}
