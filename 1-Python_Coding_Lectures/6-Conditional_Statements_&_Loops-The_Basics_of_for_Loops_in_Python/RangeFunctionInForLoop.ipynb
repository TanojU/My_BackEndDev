{
 "cells": [
  {
   "cell_type": "markdown",
   "metadata": {},
   "source": [
    "### TheRangeFunctionInForLoop"
   ]
  },
  {
   "cell_type": "markdown",
   "metadata": {},
   "source": [
    "To loop through a set of code a specified number of times, we can use the range() function\n",
    "\n",
    "The range() function returns a sequence of numbers, starting from 0 by default, and increments by 1 (by default), and ends at a specified number."
   ]
  },
  {
   "cell_type": "markdown",
   "metadata": {},
   "source": [
    "The `range(n)` function can be considered a shorthand for `0,1,2,....n-1`.<br>"
   ]
  },
  {
   "cell_type": "code",
   "execution_count": 1,
   "metadata": {},
   "outputs": [
    {
     "data": {
      "text/plain": [
       "range(0, 5)"
      ]
     },
     "execution_count": 1,
     "metadata": {},
     "output_type": "execute_result"
    }
   ],
   "source": [
    "my_range = range(5)\n",
    "\n",
    "my_range"
   ]
  },
  {
   "cell_type": "code",
   "execution_count": 2,
   "metadata": {},
   "outputs": [
    {
     "data": {
      "text/plain": [
       "(0, 1, 2, 3, 4)"
      ]
     },
     "execution_count": 2,
     "metadata": {},
     "output_type": "execute_result"
    }
   ],
   "source": [
    "tuple(my_range) # cast as a tuple"
   ]
  },
  {
   "cell_type": "code",
   "execution_count": 3,
   "metadata": {},
   "outputs": [
    {
     "data": {
      "text/plain": [
       "[0, 1, 2, 3, 4]"
      ]
     },
     "execution_count": 3,
     "metadata": {},
     "output_type": "execute_result"
    }
   ],
   "source": [
    "list(my_range)"
   ]
  },
  {
   "cell_type": "markdown",
   "metadata": {},
   "source": [
    "The Range start with 5, and stop with 10"
   ]
  },
  {
   "cell_type": "code",
   "execution_count": 4,
   "metadata": {},
   "outputs": [
    {
     "data": {
      "text/plain": [
       "[5, 6, 7, 8, 9]"
      ]
     },
     "execution_count": 4,
     "metadata": {},
     "output_type": "execute_result"
    }
   ],
   "source": [
    "list(range(5, 10))"
   ]
  },
  {
   "cell_type": "markdown",
   "metadata": {},
   "source": [
    "Here we can use negative values also"
   ]
  },
  {
   "cell_type": "code",
   "execution_count": 5,
   "metadata": {},
   "outputs": [
    {
     "data": {
      "text/plain": [
       "[-5, -4, -3, -2, -1, 0, 1, 2, 3, 4]"
      ]
     },
     "execution_count": 5,
     "metadata": {},
     "output_type": "execute_result"
    }
   ],
   "source": [
    "list(range(-5, 5))"
   ]
  },
  {
   "cell_type": "markdown",
   "metadata": {},
   "source": [
    "Here calling `range()` with float will not work"
   ]
  },
  {
   "cell_type": "code",
   "execution_count": 6,
   "metadata": {
    "scrolled": true
   },
   "outputs": [
    {
     "ename": "TypeError",
     "evalue": "'float' object cannot be interpreted as an integer",
     "output_type": "error",
     "traceback": [
      "\u001b[0;31m---------------------------------------------------------------------------\u001b[0m",
      "\u001b[0;31mTypeError\u001b[0m                                 Traceback (most recent call last)",
      "\u001b[0;32m<ipython-input-6-0f066e55bbef>\u001b[0m in \u001b[0;36m<module>\u001b[0;34m()\u001b[0m\n\u001b[0;32m----> 1\u001b[0;31m \u001b[0;32mfor\u001b[0m \u001b[0mi\u001b[0m \u001b[0;32min\u001b[0m \u001b[0mrange\u001b[0m \u001b[0;34m(\u001b[0m\u001b[0;36m3.3\u001b[0m\u001b[0;34m)\u001b[0m\u001b[0;34m:\u001b[0m\u001b[0;34m\u001b[0m\u001b[0m\n\u001b[0m\u001b[1;32m      2\u001b[0m     \u001b[0mprint\u001b[0m \u001b[0;34m(\u001b[0m\u001b[0mi\u001b[0m\u001b[0;34m)\u001b[0m\u001b[0;34m\u001b[0m\u001b[0m\n",
      "\u001b[0;31mTypeError\u001b[0m: 'float' object cannot be interpreted as an integer"
     ]
    }
   ],
   "source": [
    "for i in range (3.3): # range can not be float\n",
    "    print (i)"
   ]
  },
  {
   "cell_type": "markdown",
   "metadata": {},
   "source": [
    "Here calling `range()` with string will not work"
   ]
  },
  {
   "cell_type": "code",
   "execution_count": 1,
   "metadata": {
    "scrolled": true
   },
   "outputs": [
    {
     "ename": "TypeError",
     "evalue": "'str' object cannot be interpreted as an integer",
     "output_type": "error",
     "traceback": [
      "\u001b[0;31m---------------------------------------------------------------------------\u001b[0m",
      "\u001b[0;31mTypeError\u001b[0m                                 Traceback (most recent call last)",
      "\u001b[0;32m<ipython-input-1-8d3709bf34ef>\u001b[0m in \u001b[0;36m<module>\u001b[0;34m()\u001b[0m\n\u001b[0;32m----> 1\u001b[0;31m \u001b[0;32mfor\u001b[0m \u001b[0mi\u001b[0m \u001b[0;32min\u001b[0m \u001b[0mrange\u001b[0m \u001b[0;34m(\u001b[0m\u001b[0;34m\"C\"\u001b[0m\u001b[0;34m,\u001b[0m\u001b[0;34m\"Y\"\u001b[0m\u001b[0;34m)\u001b[0m\u001b[0;34m:\u001b[0m\u001b[0;34m\u001b[0m\u001b[0;34m\u001b[0m\u001b[0m\n\u001b[0m\u001b[1;32m      2\u001b[0m     \u001b[0mprint\u001b[0m\u001b[0;34m(\u001b[0m\u001b[0mi\u001b[0m\u001b[0;34m)\u001b[0m\u001b[0;34m\u001b[0m\u001b[0;34m\u001b[0m\u001b[0m\n",
      "\u001b[0;31mTypeError\u001b[0m: 'str' object cannot be interpreted as an integer"
     ]
    }
   ],
   "source": [
    "for i in range (\"C\",\"Y\"): # range can not be strings\n",
    "    print(i)"
   ]
  },
  {
   "cell_type": "markdown",
   "metadata": {},
   "source": [
    "The `range()` function returns a sequence of numbers.  Starting from `0` by default and ends at a specified number."
   ]
  },
  {
   "cell_type": "code",
   "execution_count": 8,
   "metadata": {},
   "outputs": [
    {
     "name": "stdout",
     "output_type": "stream",
     "text": [
      "0\n",
      "1\n",
      "2\n",
      "3\n",
      "4\n",
      "5\n"
     ]
    }
   ],
   "source": [
    "for i in range(6): # starts at 0, creates 6 Integers in sequence\n",
    "    print(i)"
   ]
  },
  {
   "cell_type": "markdown",
   "metadata": {},
   "source": [
    "program to print \"hello\" 5 times"
   ]
  },
  {
   "cell_type": "code",
   "execution_count": 9,
   "metadata": {
    "scrolled": true
   },
   "outputs": [
    {
     "name": "stdout",
     "output_type": "stream",
     "text": [
      "Hello\n",
      "Hello\n",
      "Hello\n"
     ]
    }
   ],
   "source": [
    "for i in range (3):\n",
    "    print (\"Hello\")"
   ]
  },
  {
   "cell_type": "markdown",
   "metadata": {},
   "source": [
    "Here we are replacing value of the `i` variable with `_`"
   ]
  },
  {
   "cell_type": "code",
   "execution_count": 10,
   "metadata": {
    "scrolled": true
   },
   "outputs": [
    {
     "name": "stdout",
     "output_type": "stream",
     "text": [
      "Hello\n",
      "Hello\n",
      "Hello\n"
     ]
    }
   ],
   "source": [
    "for _ in range(3): # when not using the values in the range, use _ as convention \n",
    "    print(\"Hello\")"
   ]
  },
  {
   "cell_type": "code",
   "execution_count": 11,
   "metadata": {
    "scrolled": false
   },
   "outputs": [
    {
     "name": "stdout",
     "output_type": "stream",
     "text": [
      "python\n",
      "python\n",
      "python\n",
      "python\n"
     ]
    }
   ],
   "source": [
    "for i in range (2 ** 2):\n",
    "    print (\"python\")"
   ]
  },
  {
   "cell_type": "markdown",
   "metadata": {},
   "source": [
    "Here we are giving starting value by adding a parameter: `range(5,10)`<br>\n",
    "Example of exclusive `range()`"
   ]
  },
  {
   "cell_type": "code",
   "execution_count": 12,
   "metadata": {},
   "outputs": [
    {
     "name": "stdout",
     "output_type": "stream",
     "text": [
      "number: 5\n",
      "number: 6\n",
      "number: 7\n",
      "number: 8\n",
      "number: 9\n"
     ]
    }
   ],
   "source": [
    "for num in range (5, 10): # starts at 5 and excludes 10. Creates 10-5 numbers \n",
    "    print(\"number:\", num) "
   ]
  },
  {
   "cell_type": "markdown",
   "metadata": {},
   "source": [
    "Print the number to the power two with given range"
   ]
  },
  {
   "cell_type": "code",
   "execution_count": 13,
   "metadata": {},
   "outputs": [
    {
     "name": "stdout",
     "output_type": "stream",
     "text": [
      "5 square is 25\n",
      "6 square is 36\n",
      "7 square is 49\n",
      "End of loop\n"
     ]
    }
   ],
   "source": [
    "for i in range(5, 8):\n",
    "    print(i, \"square is\", i ** 2)\n",
    "    \n",
    "print(\"End of loop\")"
   ]
  },
  {
   "cell_type": "markdown",
   "metadata": {},
   "source": [
    "Example of inclusive `range()`, Print all numbers from 5 to 10, and print a message when the loop has ended:"
   ]
  },
  {
   "cell_type": "code",
   "execution_count": 15,
   "metadata": {},
   "outputs": [
    {
     "name": "stdout",
     "output_type": "stream",
     "text": [
      "5\n",
      "6\n",
      "7\n",
      "8\n",
      "9\n",
      "10\n",
      "the loop has ended\n"
     ]
    }
   ],
   "source": [
    "for val in range (5, 10 + 1):\n",
    "    print (val)\n",
    "    \n",
    "print (\"the loop has ended\")    "
   ]
  },
  {
   "cell_type": "markdown",
   "metadata": {},
   "source": [
    "Reversing the order using built-in reversed function:"
   ]
  },
  {
   "cell_type": "code",
   "execution_count": 17,
   "metadata": {
    "scrolled": true
   },
   "outputs": [
    {
     "name": "stdout",
     "output_type": "stream",
     "text": [
      "4\n",
      "3\n",
      "2\n",
      "1\n",
      "0\n"
     ]
    }
   ],
   "source": [
    "x = range(5)\n",
    "\n",
    "for i in reversed(x): # built in reverse function\n",
    "    print (i)"
   ]
  },
  {
   "cell_type": "markdown",
   "metadata": {},
   "source": [
    "Reversing string"
   ]
  },
  {
   "cell_type": "code",
   "execution_count": 19,
   "metadata": {
    "scrolled": true
   },
   "outputs": [
    {
     "name": "stdout",
     "output_type": "stream",
     "text": [
      "e\n",
      "m\n",
      "o\n",
      "c\n",
      "l\n",
      "e\n",
      "w\n"
     ]
    }
   ],
   "source": [
    "for i in reversed(\"welcome\"):\n",
    "    print (i)"
   ]
  },
  {
   "cell_type": "markdown",
   "metadata": {},
   "source": [
    "Range `(begin , end , stride)`or `(start, stop, step)` returns an iterable that integers starting with `begin`, up to but not including `end`.  If specified, `stride` indicates and amount to skip between values.<br>\n",
    "Omitted, it defaults to 1:"
   ]
  },
  {
   "cell_type": "code",
   "execution_count": 20,
   "metadata": {},
   "outputs": [
    {
     "data": {
      "text/plain": [
       "[5, 6, 7, 8, 9]"
      ]
     },
     "execution_count": 20,
     "metadata": {},
     "output_type": "execute_result"
    }
   ],
   "source": [
    "list(range(5, 10, 1)) # reange with start, stop and step"
   ]
  },
  {
   "cell_type": "code",
   "execution_count": 21,
   "metadata": {},
   "outputs": [
    {
     "name": "stdout",
     "output_type": "stream",
     "text": [
      "[5, 7, 9]\n"
     ]
    }
   ],
   "source": [
    "x = list(range(5, 10, 2))\n",
    "print(x)"
   ]
  },
  {
   "cell_type": "markdown",
   "metadata": {},
   "source": [
    "We can specify the `step` (including a negative `step`) as the third argument"
   ]
  },
  {
   "cell_type": "code",
   "execution_count": 22,
   "metadata": {
    "scrolled": true
   },
   "outputs": [
    {
     "data": {
      "text/plain": [
       "(5, 3, 1, -1, -3, -5, -7, -9)"
      ]
     },
     "execution_count": 22,
     "metadata": {},
     "output_type": "execute_result"
    }
   ],
   "source": [
    "tuple(range(5, -10, -2)) # step size can be negarive"
   ]
  },
  {
   "cell_type": "code",
   "execution_count": 1,
   "metadata": {},
   "outputs": [
    {
     "data": {
      "text/plain": [
       "(-5, -7, -9)"
      ]
     },
     "execution_count": 1,
     "metadata": {},
     "output_type": "execute_result"
    }
   ],
   "source": [
    "tuple(range(-5, -10, -2))"
   ]
  },
  {
   "cell_type": "code",
   "execution_count": 2,
   "metadata": {},
   "outputs": [
    {
     "data": {
      "text/plain": [
       "()"
      ]
     },
     "execution_count": 2,
     "metadata": {},
     "output_type": "execute_result"
    }
   ],
   "source": [
    "tuple(range(-5, -10, 2)) # not the output when when going from high to low with a positive step size"
   ]
  },
  {
   "cell_type": "code",
   "execution_count": 3,
   "metadata": {},
   "outputs": [
    {
     "data": {
      "text/plain": [
       "()"
      ]
     },
     "execution_count": 3,
     "metadata": {},
     "output_type": "execute_result"
    }
   ],
   "source": [
    "tuple(range(5, 10, -2)) # not the output when when going from high to low with a positive step size"
   ]
  },
  {
   "cell_type": "code",
   "execution_count": 23,
   "metadata": {},
   "outputs": [
    {
     "data": {
      "text/plain": [
       "[-2, -4, -6, -8]"
      ]
     },
     "execution_count": 23,
     "metadata": {},
     "output_type": "execute_result"
    }
   ],
   "source": [
    "list(range(-2, -10, -2))"
   ]
  },
  {
   "cell_type": "code",
   "execution_count": 2,
   "metadata": {},
   "outputs": [
    {
     "name": "stdout",
     "output_type": "stream",
     "text": [
      "-2\n",
      "-4\n",
      "-6\n",
      "-8\n"
     ]
    }
   ],
   "source": [
    "# can specify range as variables\n",
    "start = -2\n",
    "stop = -10\n",
    "step = -2\n",
    "\n",
    "for number in range (start, stop, step):\n",
    "    print (number)"
   ]
  },
  {
   "cell_type": "markdown",
   "metadata": {},
   "source": [
    "If step is positive, then you move through a series of increasing numbers.\n",
    "Increment the sequence with 2 (default is 1):"
   ]
  },
  {
   "cell_type": "code",
   "execution_count": 4,
   "metadata": {
    "scrolled": true
   },
   "outputs": [
    {
     "name": "stdout",
     "output_type": "stream",
     "text": [
      "2 4 6 8 10 12 14 16 18 "
     ]
    }
   ],
   "source": [
    "for x in range (2, 20, 2):\n",
    "    print (x, end = ', ') # numbers continue in one line"
   ]
  },
  {
   "cell_type": "code",
   "execution_count": 4,
   "metadata": {},
   "outputs": [
    {
     "name": "stdout",
     "output_type": "stream",
     "text": [
      "2\n",
      "4\n",
      "6\n",
      "8\n",
      "10\n",
      "12\n",
      "14\n",
      "16\n",
      "18\n"
     ]
    }
   ],
   "source": [
    "for x in range (2, 20, 2):\n",
    "    print (x)"
   ]
  },
  {
   "cell_type": "markdown",
   "metadata": {},
   "source": [
    "5 to 1 descending order:<br>\n",
    "Range (start_value, end_value, step)."
   ]
  },
  {
   "cell_type": "markdown",
   "metadata": {},
   "source": [
    "Write a Python program that accepts a word from the user and reverse it<br>\n",
    "to get this below code https://www.w3resource.com/python-exercises/python-conditional-exercise-5.php "
   ]
  },
  {
   "cell_type": "markdown",
   "metadata": {},
   "source": [
    "practice makes a man perfect"
   ]
  },
  {
   "cell_type": "code",
   "execution_count": 6,
   "metadata": {},
   "outputs": [
    {
     "name": "stdout",
     "output_type": "stream",
     "text": [
      "Input a word to reverse: Schweinsteiger\n",
      "regietsniewhcS\n",
      "\n"
     ]
    }
   ],
   "source": [
    "word = input(\"Input a word to reverse: \")\n",
    "\n",
    "len_word = len(word)\n",
    "\n",
    "for char in range(len_word-1, -1, -1):\n",
    "    \n",
    "    print(word[char], end = \"\")\n",
    "    \n",
    "print(\"\\n\")"
   ]
  },
  {
   "cell_type": "code",
   "execution_count": 3,
   "metadata": {},
   "outputs": [
    {
     "name": "stdout",
     "output_type": "stream",
     "text": [
      "Input a word to reverse: five\n",
      "evif\n",
      "\n"
     ]
    }
   ],
   "source": [
    "word = input(\"Input a word to reverse: \")\n",
    "\n",
    "len_word = len(word)\n",
    "\n",
    "for char in range(len_word-1, -1, -1): # this range gives a reverse list upto and including 0 (eg: 3, 2, 1, 0)\n",
    "    \n",
    "    print(word[char], end = \"\") #for 1st value in range (char) which is the end index of the string,\n",
    "    ## print the character in the imput position. i.e. print the value of input at 3, then 2, then 1, then 0\n",
    "    ## orint all in one line\n",
    "    \n",
    "print(\"\\n\") # print a new line"
   ]
  },
  {
   "cell_type": "code",
   "execution_count": 6,
   "metadata": {},
   "outputs": [
    {
     "name": "stdout",
     "output_type": "stream",
     "text": [
      "Input a word to reverse: five\n",
      "e\n",
      "v\n",
      "i\n",
      "f\n"
     ]
    }
   ],
   "source": [
    "word = input(\"Input a word to reverse: \")\n",
    "\n",
    "len_word = len(word)\n",
    "\n",
    "for char in range(len_word-1, -1, -1):\n",
    "    \n",
    "    print(word[char]) #print the letter in 'word' at position of 'char'\n"
   ]
  },
  {
   "cell_type": "code",
   "execution_count": 2,
   "metadata": {},
   "outputs": [
    {
     "name": "stdout",
     "output_type": "stream",
     "text": [
      "[3, 2, 1, 0]\n"
     ]
    }
   ],
   "source": [
    "x = list(range(3, -1, -1)) # notation to reverse a range to end at 0\n",
    "print(x)"
   ]
  },
  {
   "cell_type": "markdown",
   "metadata": {},
   "source": [
    "Using `len()` function to get the length of elements"
   ]
  },
  {
   "cell_type": "code",
   "execution_count": 32,
   "metadata": {
    "scrolled": true
   },
   "outputs": [
    {
     "name": "stdout",
     "output_type": "stream",
     "text": [
      "0 Jan\n",
      "1 Feb\n",
      "2 Mar\n",
      "3 Apr\n"
     ]
    }
   ],
   "source": [
    "months = [\"Jan\", \"Feb\", \"Mar\", \"Apr\"]\n",
    "\n",
    "\n",
    "for index in range(len(months)):\n",
    "    print (index, months[index]) # print the value in index and the value in months at the same index position "
   ]
  },
  {
   "cell_type": "markdown",
   "metadata": {},
   "source": [
    "Printing the sum of first 5 natural numbers"
   ]
  },
  {
   "cell_type": "code",
   "execution_count": 7,
   "metadata": {},
   "outputs": [
    {
     "name": "stdout",
     "output_type": "stream",
     "text": [
      "15\n"
     ]
    }
   ],
   "source": [
    "value = 0                \n",
    "\n",
    "for num in range(1, 6):  \n",
    "    value = value + num  \n",
    "    \n",
    "print (value)            "
   ]
  },
  {
   "cell_type": "code",
   "execution_count": 11,
   "metadata": {},
   "outputs": [
    {
     "name": "stdout",
     "output_type": "stream",
     "text": [
      "1\n",
      "3\n",
      "6\n",
      "10\n",
      "15\n",
      "15\n"
     ]
    }
   ],
   "source": [
    "value = 0                \n",
    "\n",
    "for num in range(1, 6):  \n",
    "    value = value + num\n",
    "    print(value)\n",
    "    \n",
    "print (value) "
   ]
  },
  {
   "cell_type": "code",
   "execution_count": 10,
   "metadata": {},
   "outputs": [
    {
     "name": "stdout",
     "output_type": "stream",
     "text": [
      "1\n",
      "2\n",
      "3\n",
      "4\n",
      "5\n",
      "5\n"
     ]
    }
   ],
   "source": [
    "value = 0                \n",
    "\n",
    "for num in range(1, 6):  \n",
    "    value = value + 1 \n",
    "    print(value)\n",
    "    \n",
    "print (value)            "
   ]
  },
  {
   "cell_type": "markdown",
   "metadata": {},
   "source": [
    "Here we are created empty list and we added numbers in that list using append attribute"
   ]
  },
  {
   "cell_type": "code",
   "execution_count": 31,
   "metadata": {},
   "outputs": [
    {
     "name": "stdout",
     "output_type": "stream",
     "text": [
      "[0, 1, 2, 3, 4, 5, 6, 7, 8, 9]\n"
     ]
    }
   ],
   "source": [
    "integers = []\n",
    "\n",
    "for i in range (10):\n",
    "    integers.append(i)\n",
    "    \n",
    "print (integers)\n",
    "\n",
    "# appends each value of the range into the integers variable"
   ]
  },
  {
   "cell_type": "markdown",
   "metadata": {},
   "source": [
    "### If, else in foor loop"
   ]
  },
  {
   "cell_type": "code",
   "execution_count": 32,
   "metadata": {},
   "outputs": [
    {
     "name": "stdout",
     "output_type": "stream",
     "text": [
      "0\n",
      "1\n",
      "2\n",
      "3\n",
      "4\n",
      "The loop has completed execution\n"
     ]
    }
   ],
   "source": [
    "for val in range(5):\n",
    "    print (val)\n",
    "    \n",
    "else:\n",
    "    print (\"The loop has completed execution\")"
   ]
  },
  {
   "cell_type": "code",
   "execution_count": 33,
   "metadata": {},
   "outputs": [
    {
     "name": "stdout",
     "output_type": "stream",
     "text": [
      "The number 1 is not divisible by 2\n",
      "The number 2 is divisible by 2\n",
      "The number 3 is not divisible by 2\n",
      "The number 4 is divisible by 2\n",
      "The number 5 is not divisible by 2\n",
      "The number 6 is divisible by 2\n",
      "The number 7 is not divisible by 2\n",
      "The number 8 is divisible by 2\n",
      "The number 9 is not divisible by 2\n"
     ]
    }
   ],
   "source": [
    "for i in range (1, 10):\n",
    "    \n",
    "    if i % 2 == 0:\n",
    "        print(\"The number %s is divisible by 2\" % i)\n",
    "        \n",
    "    else:\n",
    "        print(\"The number %s is not divisible by 2\" % i)\n",
    "        \n",
    "# nested if, else statement in a for loop"
   ]
  },
  {
   "cell_type": "code",
   "execution_count": 34,
   "metadata": {},
   "outputs": [
    {
     "name": "stdout",
     "output_type": "stream",
     "text": [
      "[3, 5, 6, 9, 10, 12, 15, 18, 20]\n"
     ]
    }
   ],
   "source": [
    "num_list = []\n",
    "\n",
    "for i in range(1, 21):\n",
    "    \n",
    "    if (i%3==0 or i%5==0):\n",
    "        num_list.append(i)\n",
    "        \n",
    "print(num_list)"
   ]
  },
  {
   "cell_type": "markdown",
   "metadata": {},
   "source": [
    "Print program to find numbers between 100 and 301 where each digit of a number is an even number.  The numbers obtained should be printed in a comma-separated sequence"
   ]
  },
  {
   "cell_type": "code",
   "execution_count": 4,
   "metadata": {},
   "outputs": [
    {
     "name": "stdout",
     "output_type": "stream",
     "text": [
      "200, 202, 204, 206, 208, 220, 222, 224, 226, 228, 240, 242, 244, 246, 248, 260, 262, 264, 266, 268, 280, 282, 284, 286, 288\n"
     ]
    }
   ],
   "source": [
    "items = [] # initialise empty list\n",
    "\n",
    "for i in range(100, 301): #for each number in rance 100 to 300\n",
    "    \n",
    "    num_str = str(i) # convert i to string so that each digit of the number can be indexed\n",
    "    first_digit = int(num_str[0]) # convert 1st number in num_str to int\n",
    "    second_digit = int(num_str[1]) # convert the 2nd number in num_str to int\n",
    "    third_digit = int(num_str[2]) # convert the 3rd number in num_str to int\n",
    "    \n",
    "    if (first_digit % 2 == 0) and (second_digit % 2 == 0) and (third_digit % 2 == 0):\n",
    "        items.append(num_str) # append to items\n",
    "        \n",
    "print( \", \".join(items)) # join the numbers. in items with ', '"
   ]
  },
  {
   "cell_type": "code",
   "execution_count": 9,
   "metadata": {},
   "outputs": [
    {
     "name": "stdout",
     "output_type": "stream",
     "text": [
      "numbers in items are:  ['200', '202', '204', '206', '208', '220', '222', '224', '226', '228', '240', '242', '244', '246', '248', '260', '262', '264', '266', '268', '280', '282', '284', '286', '288']\n",
      " comma-separated:  200, 202, 204, 206, 208, 220, 222, 224, 226, 228, 240, 242, 244, 246, 248, 260, 262, 264, 266, 268, 280, 282, 284, 286, 288\n"
     ]
    }
   ],
   "source": [
    "items = [] # initialise empty list\n",
    "\n",
    "for i in range(100, 301): #for each number in rance 100 to 300\n",
    "    \n",
    "    num_str = str(i) # 100 = '100'\n",
    "    first_digit = int(num_str[0]) # ie 1st digit of string '123' = int('1')\n",
    "    #print(first_digit)\n",
    "    \n",
    "    second_digit = int(num_str[1]) # ie 2nd digit of string '123' = int('2')\n",
    "    #print(second_digit)\n",
    "    \n",
    "    third_digit = int(num_str[2]) # ie 3rd digit of string '123' = int('3')\n",
    "    #print(third_digit)\n",
    "    \n",
    "    if (first_digit % 2 == 0) and (second_digit % 2 == 0) and (third_digit % 2 == 0):\n",
    "        items.append(num_str)\n",
    "\n",
    "print(\"numbers in items are: \", items) # numbers are stored in items as a list of strings        \n",
    "print( \" comma-separated: \", \", \".join(items))"
   ]
  },
  {
   "cell_type": "markdown",
   "metadata": {},
   "source": [
    "### If, elif and else statement in for loop"
   ]
  },
  {
   "cell_type": "code",
   "execution_count": 36,
   "metadata": {},
   "outputs": [
    {
     "name": "stdout",
     "output_type": "stream",
     "text": [
      "3 is divisible by 3\n",
      "5 is divisible by 5\n",
      "6 is divisible by 3\n",
      "9 is divisible by 3\n",
      "10 is divisible by 5\n",
      "12 is divisible by 3\n",
      "15 is divisible by both 3 and 5\n"
     ]
    }
   ],
   "source": [
    "for i in range(1, 16):\n",
    "    \n",
    "    if i % 3 == 0 and i % 5 == 0:\n",
    "        print(i,\"is divisible by both 3 and 5\")\n",
    "    elif i % 3 == 0:\n",
    "        print(i,\"is divisible by 3\")\n",
    "    elif i % 5 == 0:\n",
    "        print(i,\"is divisible by 5\")"
   ]
  },
  {
   "cell_type": "markdown",
   "metadata": {},
   "source": [
    "### Nested ForLoop"
   ]
  },
  {
   "cell_type": "markdown",
   "metadata": {},
   "source": [
    "A nested loop is a loop inside a loop"
   ]
  },
  {
   "cell_type": "markdown",
   "metadata": {},
   "source": [
    "Here we have nested loop means simply we have a loop (outer loop) that has inside its commands annother loop(inner loop)."
   ]
  },
  {
   "cell_type": "markdown",
   "metadata": {},
   "source": [
    "Pattern program"
   ]
  },
  {
   "cell_type": "code",
   "execution_count": 34,
   "metadata": {},
   "outputs": [
    {
     "name": "stdout",
     "output_type": "stream",
     "text": [
      "Enter the number of rows:6\n",
      "\n",
      "1 \n",
      "2 2 \n",
      "3 3 3 \n",
      "4 4 4 4 \n",
      "5 5 5 5 5 \n"
     ]
    }
   ],
   "source": [
    "num = int(input(\"Enter the number of rows:\"))\n",
    "\n",
    "for i in range(num): # for each number in the input\n",
    "    for j in range(i):\n",
    "        \n",
    "         print(i, end = \" \") \n",
    "    print() # how does this format the printout???"
   ]
  },
  {
   "cell_type": "code",
   "execution_count": 33,
   "metadata": {},
   "outputs": [
    {
     "name": "stdout",
     "output_type": "stream",
     "text": [
      "Enter the number of rows:6\n",
      "1 2 2 3 3 3 4 4 4 4 5 5 5 5 5 "
     ]
    }
   ],
   "source": [
    "num = int(input(\"Enter the number of rows:\"))\n",
    "\n",
    "for i in range(num): # for each number in the input\n",
    "    for j in range(i):\n",
    "        \n",
    "         print(i, end = \" \") \n",
    "    print() # how does this format the printout???"
   ]
  },
  {
   "cell_type": "code",
   "execution_count": 32,
   "metadata": {},
   "outputs": [
    {
     "name": "stdout",
     "output_type": "stream",
     "text": [
      "1st print i:  0\n",
      "\n",
      "\n",
      "4th print:  1st print i:  1\n",
      "\n",
      "\n",
      "2nd print j:  0\n",
      "3rd print i:  1 4th print:  1st print i:  2\n",
      "\n",
      "\n",
      "2nd print j:  0\n",
      "3rd print i:  2 2nd print j:  1\n",
      "3rd print i:  2 4th print:  1st print i:  3\n",
      "\n",
      "\n",
      "2nd print j:  0\n",
      "3rd print i:  3 2nd print j:  1\n",
      "3rd print i:  3 2nd print j:  2\n",
      "3rd print i:  3 4th print:  1st print i:  4\n",
      "\n",
      "\n",
      "2nd print j:  0\n",
      "3rd print i:  4 2nd print j:  1\n",
      "3rd print i:  4 2nd print j:  2\n",
      "3rd print i:  4 2nd print j:  3\n",
      "3rd print i:  4 4th print:  1st print i:  5\n",
      "\n",
      "\n",
      "2nd print j:  0\n",
      "3rd print i:  5 2nd print j:  1\n",
      "3rd print i:  5 2nd print j:  2\n",
      "3rd print i:  5 2nd print j:  3\n",
      "3rd print i:  5 2nd print j:  4\n",
      "3rd print i:  5 4th print:  "
     ]
    }
   ],
   "source": [
    "num = 6\n",
    "\n",
    "for i in range(num):\n",
    "    print(\"1st print i: \", i) # prints: 0, 1, 2, 3, 4, 5\n",
    "    print(\"\\n\")\n",
    "    \n",
    "    for j in range(i): # takes in the value of the element in i and creates a range using that number\n",
    "        print(\"2nd print j: \", j) # prints: 0 0 1 0 1 2 0 1 2 3 0 1 2 3 4 \n",
    "        \n",
    "        print(\"3rd print i: \", i, end = \" \") \n",
    "    print(\"4th print: \", end = \" \")"
   ]
  },
  {
   "cell_type": "code",
   "execution_count": 48,
   "metadata": {},
   "outputs": [
    {
     "name": "stdout",
     "output_type": "stream",
     "text": [
      "Enter the number of rows:5\n",
      "\n",
      "* \n",
      "* * \n",
      "* * * \n",
      "* * * * \n"
     ]
    }
   ],
   "source": [
    "num = int(input(\"Enter the number of rows:\"))\n",
    "\n",
    "for i in range(num):\n",
    "    for x in range (i):\n",
    "        \n",
    "        print (\"*\", end = \" \") \n",
    "    print()"
   ]
  },
  {
   "cell_type": "code",
   "execution_count": 49,
   "metadata": {},
   "outputs": [
    {
     "name": "stdout",
     "output_type": "stream",
     "text": [
      "Enter the number of rows:3\n",
      "* * * \n",
      "* * \n",
      "* \n"
     ]
    }
   ],
   "source": [
    "num = int(input(\"Enter the number of rows:\"))\n",
    "\n",
    "for i in range(num, 0, -1): # reverses the range: for i in range, reverse the range\n",
    "    for x in range(i):\n",
    "        \n",
    "        print (\"*\", end = \" \") \n",
    "    print()"
   ]
  },
  {
   "cell_type": "markdown",
   "metadata": {},
   "source": [
    "Here we a block of code you want to run x number of times, then a block of code within that code which you want to run y number of times"
   ]
  },
  {
   "cell_type": "code",
   "execution_count": 52,
   "metadata": {},
   "outputs": [
    {
     "name": "stdout",
     "output_type": "stream",
     "text": [
      "1 * 5 = 5\n",
      "1 * 6 = 6\n",
      "1 * 7 = 7\n",
      "2 * 5 = 10\n",
      "2 * 6 = 12\n",
      "2 * 7 = 14\n",
      "3 * 5 = 15\n",
      "3 * 6 = 18\n",
      "3 * 7 = 21\n"
     ]
    }
   ],
   "source": [
    "for x in range (1, 4): # for range 1 to 4\n",
    "    for y in range (5, 8): # for range 5 to 8\n",
    "        \n",
    "        print(\"%d * %d = %d\" % (x, y, x * y)) \n",
    "        # print vaue of x for 1st d\n",
    "        # print value of y for 2nd d\n",
    "        # print value of (x * y) for 3rd d"
   ]
  },
  {
   "cell_type": "markdown",
   "metadata": {},
   "source": [
    "{:2d} in the format function makes sure that you have always have space for two digits.\n",
    "\n",
    "create a table like structure having multiples of 1 to 9"
   ]
  },
  {
   "cell_type": "code",
   "execution_count": 8,
   "metadata": {},
   "outputs": [
    {
     "name": "stdout",
     "output_type": "stream",
     "text": [
      "num = 1 :  1  2  3  4  5  6  7  8  9 \n",
      "num = 2 :  2  4  6  8 10 12 14 16 18 \n",
      "num = 3 :  3  6  9 12 15 18 21 24 27 \n",
      "num = 4 :  4  8 12 16 20 24 28 32 36 \n",
      "num = 5 :  5 10 15 20 25 30 35 40 45 \n",
      "num = 6 :  6 12 18 24 30 36 42 48 54 \n",
      "num = 7 :  7 14 21 28 35 42 49 56 63 \n",
      "num = 8 :  8 16 24 32 40 48 56 64 72 \n",
      "num = 9 :  9 18 27 36 45 54 63 72 81 \n"
     ]
    }
   ],
   "source": [
    "for num1 in range(1, 10): # for num1 in range\n",
    "    print(\"num =\", num1, \":\", end = \" \") # print num = num1 :\n",
    "    \n",
    "    for num_2 in range(1, 10):\n",
    "        print(\"{:2d}\".format(num1 * num_2), end = \" \")\n",
    "        \n",
    "    print()"
   ]
  },
  {
   "cell_type": "code",
   "execution_count": null,
   "metadata": {
    "collapsed": true
   },
   "outputs": [],
   "source": []
  }
 ],
 "metadata": {
  "kernelspec": {
   "display_name": "Python 3",
   "language": "python",
   "name": "python3"
  },
  "language_info": {
   "codemirror_mode": {
    "name": "ipython",
    "version": 3
   },
   "file_extension": ".py",
   "mimetype": "text/x-python",
   "name": "python",
   "nbconvert_exporter": "python",
   "pygments_lexer": "ipython3",
   "version": "3.7.3"
  }
 },
 "nbformat": 4,
 "nbformat_minor": 2
}
